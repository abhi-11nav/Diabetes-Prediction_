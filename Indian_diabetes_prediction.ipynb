{
  "nbformat": 4,
  "nbformat_minor": 0,
  "metadata": {
    "colab": {
      "name": "Indian diabetes prediction.ipynb",
      "provenance": [],
      "mount_file_id": "1-iGJKUMR7r_bgOlqJHM_ZAwn15x7CHhz",
      "authorship_tag": "ABX9TyOT7vmPCnPKza+tVa8BK7Bw",
      "include_colab_link": true
    },
    "kernelspec": {
      "name": "python3",
      "display_name": "Python 3"
    },
    "language_info": {
      "name": "python"
    }
  },
  "cells": [
    {
      "cell_type": "markdown",
      "metadata": {
        "id": "view-in-github",
        "colab_type": "text"
      },
      "source": [
        "<a href=\"https://colab.research.google.com/github/abhi-11nav/Diabetes-Prediction_/blob/main/Indian_diabetes_prediction.ipynb\" target=\"_parent\"><img src=\"https://colab.research.google.com/assets/colab-badge.svg\" alt=\"Open In Colab\"/></a>"
      ]
    },
    {
      "cell_type": "code",
      "execution_count": 3,
      "metadata": {
        "id": "C-g4T9UtDYP-"
      },
      "outputs": [],
      "source": [
        "import pandas as pd\n",
        "import numpy as np "
      ]
    },
    {
      "cell_type": "markdown",
      "source": [
        "## Dataset link \n",
        "\n",
        "https://www.kaggle.com/datasets/uciml/pima-indians-diabetes-database"
      ],
      "metadata": {
        "id": "tZecvSdBFChJ"
      }
    },
    {
      "cell_type": "code",
      "source": [
        "dataset_link = \"/content/drive/MyDrive/Diabetes Prediction/diabetes.csv\""
      ],
      "metadata": {
        "id": "ylMzWLdgEnOe"
      },
      "execution_count": 4,
      "outputs": []
    },
    {
      "cell_type": "code",
      "source": [
        "dataset = pd.read_csv(dataset_link)"
      ],
      "metadata": {
        "id": "slb_Xb4aSWFl"
      },
      "execution_count": 5,
      "outputs": []
    },
    {
      "cell_type": "code",
      "source": [
        "dataset.head()"
      ],
      "metadata": {
        "colab": {
          "base_uri": "https://localhost:8080/",
          "height": 204
        },
        "id": "1kCZG8nRSa_m",
        "outputId": "c925275e-7011-4dc6-f459-b2d0932304e1"
      },
      "execution_count": 6,
      "outputs": [
        {
          "output_type": "execute_result",
          "data": {
            "text/plain": [
              "   Pregnancies  Glucose  BloodPressure  SkinThickness  Insulin   BMI  \\\n",
              "0            6      148             72             35        0  33.6   \n",
              "1            1       85             66             29        0  26.6   \n",
              "2            8      183             64              0        0  23.3   \n",
              "3            1       89             66             23       94  28.1   \n",
              "4            0      137             40             35      168  43.1   \n",
              "\n",
              "   DiabetesPedigreeFunction  Age  Outcome  \n",
              "0                     0.627   50        1  \n",
              "1                     0.351   31        0  \n",
              "2                     0.672   32        1  \n",
              "3                     0.167   21        0  \n",
              "4                     2.288   33        1  "
            ],
            "text/html": [
              "\n",
              "  <div id=\"df-d1cfdb2b-a12a-4eb9-a0b8-cad8c6db8b9a\">\n",
              "    <div class=\"colab-df-container\">\n",
              "      <div>\n",
              "<style scoped>\n",
              "    .dataframe tbody tr th:only-of-type {\n",
              "        vertical-align: middle;\n",
              "    }\n",
              "\n",
              "    .dataframe tbody tr th {\n",
              "        vertical-align: top;\n",
              "    }\n",
              "\n",
              "    .dataframe thead th {\n",
              "        text-align: right;\n",
              "    }\n",
              "</style>\n",
              "<table border=\"1\" class=\"dataframe\">\n",
              "  <thead>\n",
              "    <tr style=\"text-align: right;\">\n",
              "      <th></th>\n",
              "      <th>Pregnancies</th>\n",
              "      <th>Glucose</th>\n",
              "      <th>BloodPressure</th>\n",
              "      <th>SkinThickness</th>\n",
              "      <th>Insulin</th>\n",
              "      <th>BMI</th>\n",
              "      <th>DiabetesPedigreeFunction</th>\n",
              "      <th>Age</th>\n",
              "      <th>Outcome</th>\n",
              "    </tr>\n",
              "  </thead>\n",
              "  <tbody>\n",
              "    <tr>\n",
              "      <th>0</th>\n",
              "      <td>6</td>\n",
              "      <td>148</td>\n",
              "      <td>72</td>\n",
              "      <td>35</td>\n",
              "      <td>0</td>\n",
              "      <td>33.6</td>\n",
              "      <td>0.627</td>\n",
              "      <td>50</td>\n",
              "      <td>1</td>\n",
              "    </tr>\n",
              "    <tr>\n",
              "      <th>1</th>\n",
              "      <td>1</td>\n",
              "      <td>85</td>\n",
              "      <td>66</td>\n",
              "      <td>29</td>\n",
              "      <td>0</td>\n",
              "      <td>26.6</td>\n",
              "      <td>0.351</td>\n",
              "      <td>31</td>\n",
              "      <td>0</td>\n",
              "    </tr>\n",
              "    <tr>\n",
              "      <th>2</th>\n",
              "      <td>8</td>\n",
              "      <td>183</td>\n",
              "      <td>64</td>\n",
              "      <td>0</td>\n",
              "      <td>0</td>\n",
              "      <td>23.3</td>\n",
              "      <td>0.672</td>\n",
              "      <td>32</td>\n",
              "      <td>1</td>\n",
              "    </tr>\n",
              "    <tr>\n",
              "      <th>3</th>\n",
              "      <td>1</td>\n",
              "      <td>89</td>\n",
              "      <td>66</td>\n",
              "      <td>23</td>\n",
              "      <td>94</td>\n",
              "      <td>28.1</td>\n",
              "      <td>0.167</td>\n",
              "      <td>21</td>\n",
              "      <td>0</td>\n",
              "    </tr>\n",
              "    <tr>\n",
              "      <th>4</th>\n",
              "      <td>0</td>\n",
              "      <td>137</td>\n",
              "      <td>40</td>\n",
              "      <td>35</td>\n",
              "      <td>168</td>\n",
              "      <td>43.1</td>\n",
              "      <td>2.288</td>\n",
              "      <td>33</td>\n",
              "      <td>1</td>\n",
              "    </tr>\n",
              "  </tbody>\n",
              "</table>\n",
              "</div>\n",
              "      <button class=\"colab-df-convert\" onclick=\"convertToInteractive('df-d1cfdb2b-a12a-4eb9-a0b8-cad8c6db8b9a')\"\n",
              "              title=\"Convert this dataframe to an interactive table.\"\n",
              "              style=\"display:none;\">\n",
              "        \n",
              "  <svg xmlns=\"http://www.w3.org/2000/svg\" height=\"24px\"viewBox=\"0 0 24 24\"\n",
              "       width=\"24px\">\n",
              "    <path d=\"M0 0h24v24H0V0z\" fill=\"none\"/>\n",
              "    <path d=\"M18.56 5.44l.94 2.06.94-2.06 2.06-.94-2.06-.94-.94-2.06-.94 2.06-2.06.94zm-11 1L8.5 8.5l.94-2.06 2.06-.94-2.06-.94L8.5 2.5l-.94 2.06-2.06.94zm10 10l.94 2.06.94-2.06 2.06-.94-2.06-.94-.94-2.06-.94 2.06-2.06.94z\"/><path d=\"M17.41 7.96l-1.37-1.37c-.4-.4-.92-.59-1.43-.59-.52 0-1.04.2-1.43.59L10.3 9.45l-7.72 7.72c-.78.78-.78 2.05 0 2.83L4 21.41c.39.39.9.59 1.41.59.51 0 1.02-.2 1.41-.59l7.78-7.78 2.81-2.81c.8-.78.8-2.07 0-2.86zM5.41 20L4 18.59l7.72-7.72 1.47 1.35L5.41 20z\"/>\n",
              "  </svg>\n",
              "      </button>\n",
              "      \n",
              "  <style>\n",
              "    .colab-df-container {\n",
              "      display:flex;\n",
              "      flex-wrap:wrap;\n",
              "      gap: 12px;\n",
              "    }\n",
              "\n",
              "    .colab-df-convert {\n",
              "      background-color: #E8F0FE;\n",
              "      border: none;\n",
              "      border-radius: 50%;\n",
              "      cursor: pointer;\n",
              "      display: none;\n",
              "      fill: #1967D2;\n",
              "      height: 32px;\n",
              "      padding: 0 0 0 0;\n",
              "      width: 32px;\n",
              "    }\n",
              "\n",
              "    .colab-df-convert:hover {\n",
              "      background-color: #E2EBFA;\n",
              "      box-shadow: 0px 1px 2px rgba(60, 64, 67, 0.3), 0px 1px 3px 1px rgba(60, 64, 67, 0.15);\n",
              "      fill: #174EA6;\n",
              "    }\n",
              "\n",
              "    [theme=dark] .colab-df-convert {\n",
              "      background-color: #3B4455;\n",
              "      fill: #D2E3FC;\n",
              "    }\n",
              "\n",
              "    [theme=dark] .colab-df-convert:hover {\n",
              "      background-color: #434B5C;\n",
              "      box-shadow: 0px 1px 3px 1px rgba(0, 0, 0, 0.15);\n",
              "      filter: drop-shadow(0px 1px 2px rgba(0, 0, 0, 0.3));\n",
              "      fill: #FFFFFF;\n",
              "    }\n",
              "  </style>\n",
              "\n",
              "      <script>\n",
              "        const buttonEl =\n",
              "          document.querySelector('#df-d1cfdb2b-a12a-4eb9-a0b8-cad8c6db8b9a button.colab-df-convert');\n",
              "        buttonEl.style.display =\n",
              "          google.colab.kernel.accessAllowed ? 'block' : 'none';\n",
              "\n",
              "        async function convertToInteractive(key) {\n",
              "          const element = document.querySelector('#df-d1cfdb2b-a12a-4eb9-a0b8-cad8c6db8b9a');\n",
              "          const dataTable =\n",
              "            await google.colab.kernel.invokeFunction('convertToInteractive',\n",
              "                                                     [key], {});\n",
              "          if (!dataTable) return;\n",
              "\n",
              "          const docLinkHtml = 'Like what you see? Visit the ' +\n",
              "            '<a target=\"_blank\" href=https://colab.research.google.com/notebooks/data_table.ipynb>data table notebook</a>'\n",
              "            + ' to learn more about interactive tables.';\n",
              "          element.innerHTML = '';\n",
              "          dataTable['output_type'] = 'display_data';\n",
              "          await google.colab.output.renderOutput(dataTable, element);\n",
              "          const docLink = document.createElement('div');\n",
              "          docLink.innerHTML = docLinkHtml;\n",
              "          element.appendChild(docLink);\n",
              "        }\n",
              "      </script>\n",
              "    </div>\n",
              "  </div>\n",
              "  "
            ]
          },
          "metadata": {},
          "execution_count": 6
        }
      ]
    },
    {
      "cell_type": "code",
      "source": [
        "dataset.shape"
      ],
      "metadata": {
        "colab": {
          "base_uri": "https://localhost:8080/"
        },
        "id": "mdSAy-M7SdaJ",
        "outputId": "0249fc3b-0cc5-4d00-d320-194488897b57"
      },
      "execution_count": 8,
      "outputs": [
        {
          "output_type": "execute_result",
          "data": {
            "text/plain": [
              "(768, 9)"
            ]
          },
          "metadata": {},
          "execution_count": 8
        }
      ]
    },
    {
      "cell_type": "code",
      "source": [
        "dataset.describe()"
      ],
      "metadata": {
        "colab": {
          "base_uri": "https://localhost:8080/",
          "height": 297
        },
        "id": "_OFlVa09SfaQ",
        "outputId": "d3f713e0-85ff-431b-9ca8-dd1957afc4dc"
      },
      "execution_count": 9,
      "outputs": [
        {
          "output_type": "execute_result",
          "data": {
            "text/plain": [
              "       Pregnancies     Glucose  BloodPressure  SkinThickness     Insulin  \\\n",
              "count   768.000000  768.000000     768.000000     768.000000  768.000000   \n",
              "mean      3.845052  120.894531      69.105469      20.536458   79.799479   \n",
              "std       3.369578   31.972618      19.355807      15.952218  115.244002   \n",
              "min       0.000000    0.000000       0.000000       0.000000    0.000000   \n",
              "25%       1.000000   99.000000      62.000000       0.000000    0.000000   \n",
              "50%       3.000000  117.000000      72.000000      23.000000   30.500000   \n",
              "75%       6.000000  140.250000      80.000000      32.000000  127.250000   \n",
              "max      17.000000  199.000000     122.000000      99.000000  846.000000   \n",
              "\n",
              "              BMI  DiabetesPedigreeFunction         Age     Outcome  \n",
              "count  768.000000                768.000000  768.000000  768.000000  \n",
              "mean    31.992578                  0.471876   33.240885    0.348958  \n",
              "std      7.884160                  0.331329   11.760232    0.476951  \n",
              "min      0.000000                  0.078000   21.000000    0.000000  \n",
              "25%     27.300000                  0.243750   24.000000    0.000000  \n",
              "50%     32.000000                  0.372500   29.000000    0.000000  \n",
              "75%     36.600000                  0.626250   41.000000    1.000000  \n",
              "max     67.100000                  2.420000   81.000000    1.000000  "
            ],
            "text/html": [
              "\n",
              "  <div id=\"df-e6267fab-8412-4454-9f61-c5d11855ea9d\">\n",
              "    <div class=\"colab-df-container\">\n",
              "      <div>\n",
              "<style scoped>\n",
              "    .dataframe tbody tr th:only-of-type {\n",
              "        vertical-align: middle;\n",
              "    }\n",
              "\n",
              "    .dataframe tbody tr th {\n",
              "        vertical-align: top;\n",
              "    }\n",
              "\n",
              "    .dataframe thead th {\n",
              "        text-align: right;\n",
              "    }\n",
              "</style>\n",
              "<table border=\"1\" class=\"dataframe\">\n",
              "  <thead>\n",
              "    <tr style=\"text-align: right;\">\n",
              "      <th></th>\n",
              "      <th>Pregnancies</th>\n",
              "      <th>Glucose</th>\n",
              "      <th>BloodPressure</th>\n",
              "      <th>SkinThickness</th>\n",
              "      <th>Insulin</th>\n",
              "      <th>BMI</th>\n",
              "      <th>DiabetesPedigreeFunction</th>\n",
              "      <th>Age</th>\n",
              "      <th>Outcome</th>\n",
              "    </tr>\n",
              "  </thead>\n",
              "  <tbody>\n",
              "    <tr>\n",
              "      <th>count</th>\n",
              "      <td>768.000000</td>\n",
              "      <td>768.000000</td>\n",
              "      <td>768.000000</td>\n",
              "      <td>768.000000</td>\n",
              "      <td>768.000000</td>\n",
              "      <td>768.000000</td>\n",
              "      <td>768.000000</td>\n",
              "      <td>768.000000</td>\n",
              "      <td>768.000000</td>\n",
              "    </tr>\n",
              "    <tr>\n",
              "      <th>mean</th>\n",
              "      <td>3.845052</td>\n",
              "      <td>120.894531</td>\n",
              "      <td>69.105469</td>\n",
              "      <td>20.536458</td>\n",
              "      <td>79.799479</td>\n",
              "      <td>31.992578</td>\n",
              "      <td>0.471876</td>\n",
              "      <td>33.240885</td>\n",
              "      <td>0.348958</td>\n",
              "    </tr>\n",
              "    <tr>\n",
              "      <th>std</th>\n",
              "      <td>3.369578</td>\n",
              "      <td>31.972618</td>\n",
              "      <td>19.355807</td>\n",
              "      <td>15.952218</td>\n",
              "      <td>115.244002</td>\n",
              "      <td>7.884160</td>\n",
              "      <td>0.331329</td>\n",
              "      <td>11.760232</td>\n",
              "      <td>0.476951</td>\n",
              "    </tr>\n",
              "    <tr>\n",
              "      <th>min</th>\n",
              "      <td>0.000000</td>\n",
              "      <td>0.000000</td>\n",
              "      <td>0.000000</td>\n",
              "      <td>0.000000</td>\n",
              "      <td>0.000000</td>\n",
              "      <td>0.000000</td>\n",
              "      <td>0.078000</td>\n",
              "      <td>21.000000</td>\n",
              "      <td>0.000000</td>\n",
              "    </tr>\n",
              "    <tr>\n",
              "      <th>25%</th>\n",
              "      <td>1.000000</td>\n",
              "      <td>99.000000</td>\n",
              "      <td>62.000000</td>\n",
              "      <td>0.000000</td>\n",
              "      <td>0.000000</td>\n",
              "      <td>27.300000</td>\n",
              "      <td>0.243750</td>\n",
              "      <td>24.000000</td>\n",
              "      <td>0.000000</td>\n",
              "    </tr>\n",
              "    <tr>\n",
              "      <th>50%</th>\n",
              "      <td>3.000000</td>\n",
              "      <td>117.000000</td>\n",
              "      <td>72.000000</td>\n",
              "      <td>23.000000</td>\n",
              "      <td>30.500000</td>\n",
              "      <td>32.000000</td>\n",
              "      <td>0.372500</td>\n",
              "      <td>29.000000</td>\n",
              "      <td>0.000000</td>\n",
              "    </tr>\n",
              "    <tr>\n",
              "      <th>75%</th>\n",
              "      <td>6.000000</td>\n",
              "      <td>140.250000</td>\n",
              "      <td>80.000000</td>\n",
              "      <td>32.000000</td>\n",
              "      <td>127.250000</td>\n",
              "      <td>36.600000</td>\n",
              "      <td>0.626250</td>\n",
              "      <td>41.000000</td>\n",
              "      <td>1.000000</td>\n",
              "    </tr>\n",
              "    <tr>\n",
              "      <th>max</th>\n",
              "      <td>17.000000</td>\n",
              "      <td>199.000000</td>\n",
              "      <td>122.000000</td>\n",
              "      <td>99.000000</td>\n",
              "      <td>846.000000</td>\n",
              "      <td>67.100000</td>\n",
              "      <td>2.420000</td>\n",
              "      <td>81.000000</td>\n",
              "      <td>1.000000</td>\n",
              "    </tr>\n",
              "  </tbody>\n",
              "</table>\n",
              "</div>\n",
              "      <button class=\"colab-df-convert\" onclick=\"convertToInteractive('df-e6267fab-8412-4454-9f61-c5d11855ea9d')\"\n",
              "              title=\"Convert this dataframe to an interactive table.\"\n",
              "              style=\"display:none;\">\n",
              "        \n",
              "  <svg xmlns=\"http://www.w3.org/2000/svg\" height=\"24px\"viewBox=\"0 0 24 24\"\n",
              "       width=\"24px\">\n",
              "    <path d=\"M0 0h24v24H0V0z\" fill=\"none\"/>\n",
              "    <path d=\"M18.56 5.44l.94 2.06.94-2.06 2.06-.94-2.06-.94-.94-2.06-.94 2.06-2.06.94zm-11 1L8.5 8.5l.94-2.06 2.06-.94-2.06-.94L8.5 2.5l-.94 2.06-2.06.94zm10 10l.94 2.06.94-2.06 2.06-.94-2.06-.94-.94-2.06-.94 2.06-2.06.94z\"/><path d=\"M17.41 7.96l-1.37-1.37c-.4-.4-.92-.59-1.43-.59-.52 0-1.04.2-1.43.59L10.3 9.45l-7.72 7.72c-.78.78-.78 2.05 0 2.83L4 21.41c.39.39.9.59 1.41.59.51 0 1.02-.2 1.41-.59l7.78-7.78 2.81-2.81c.8-.78.8-2.07 0-2.86zM5.41 20L4 18.59l7.72-7.72 1.47 1.35L5.41 20z\"/>\n",
              "  </svg>\n",
              "      </button>\n",
              "      \n",
              "  <style>\n",
              "    .colab-df-container {\n",
              "      display:flex;\n",
              "      flex-wrap:wrap;\n",
              "      gap: 12px;\n",
              "    }\n",
              "\n",
              "    .colab-df-convert {\n",
              "      background-color: #E8F0FE;\n",
              "      border: none;\n",
              "      border-radius: 50%;\n",
              "      cursor: pointer;\n",
              "      display: none;\n",
              "      fill: #1967D2;\n",
              "      height: 32px;\n",
              "      padding: 0 0 0 0;\n",
              "      width: 32px;\n",
              "    }\n",
              "\n",
              "    .colab-df-convert:hover {\n",
              "      background-color: #E2EBFA;\n",
              "      box-shadow: 0px 1px 2px rgba(60, 64, 67, 0.3), 0px 1px 3px 1px rgba(60, 64, 67, 0.15);\n",
              "      fill: #174EA6;\n",
              "    }\n",
              "\n",
              "    [theme=dark] .colab-df-convert {\n",
              "      background-color: #3B4455;\n",
              "      fill: #D2E3FC;\n",
              "    }\n",
              "\n",
              "    [theme=dark] .colab-df-convert:hover {\n",
              "      background-color: #434B5C;\n",
              "      box-shadow: 0px 1px 3px 1px rgba(0, 0, 0, 0.15);\n",
              "      filter: drop-shadow(0px 1px 2px rgba(0, 0, 0, 0.3));\n",
              "      fill: #FFFFFF;\n",
              "    }\n",
              "  </style>\n",
              "\n",
              "      <script>\n",
              "        const buttonEl =\n",
              "          document.querySelector('#df-e6267fab-8412-4454-9f61-c5d11855ea9d button.colab-df-convert');\n",
              "        buttonEl.style.display =\n",
              "          google.colab.kernel.accessAllowed ? 'block' : 'none';\n",
              "\n",
              "        async function convertToInteractive(key) {\n",
              "          const element = document.querySelector('#df-e6267fab-8412-4454-9f61-c5d11855ea9d');\n",
              "          const dataTable =\n",
              "            await google.colab.kernel.invokeFunction('convertToInteractive',\n",
              "                                                     [key], {});\n",
              "          if (!dataTable) return;\n",
              "\n",
              "          const docLinkHtml = 'Like what you see? Visit the ' +\n",
              "            '<a target=\"_blank\" href=https://colab.research.google.com/notebooks/data_table.ipynb>data table notebook</a>'\n",
              "            + ' to learn more about interactive tables.';\n",
              "          element.innerHTML = '';\n",
              "          dataTable['output_type'] = 'display_data';\n",
              "          await google.colab.output.renderOutput(dataTable, element);\n",
              "          const docLink = document.createElement('div');\n",
              "          docLink.innerHTML = docLinkHtml;\n",
              "          element.appendChild(docLink);\n",
              "        }\n",
              "      </script>\n",
              "    </div>\n",
              "  </div>\n",
              "  "
            ]
          },
          "metadata": {},
          "execution_count": 9
        }
      ]
    },
    {
      "cell_type": "code",
      "source": [
        "dataset.info()"
      ],
      "metadata": {
        "colab": {
          "base_uri": "https://localhost:8080/"
        },
        "id": "EVHeT_WxUQ9H",
        "outputId": "7edb7b1f-207f-4725-e744-1a3c79612ca4"
      },
      "execution_count": 10,
      "outputs": [
        {
          "output_type": "stream",
          "name": "stdout",
          "text": [
            "<class 'pandas.core.frame.DataFrame'>\n",
            "RangeIndex: 768 entries, 0 to 767\n",
            "Data columns (total 9 columns):\n",
            " #   Column                    Non-Null Count  Dtype  \n",
            "---  ------                    --------------  -----  \n",
            " 0   Pregnancies               768 non-null    int64  \n",
            " 1   Glucose                   768 non-null    int64  \n",
            " 2   BloodPressure             768 non-null    int64  \n",
            " 3   SkinThickness             768 non-null    int64  \n",
            " 4   Insulin                   768 non-null    int64  \n",
            " 5   BMI                       768 non-null    float64\n",
            " 6   DiabetesPedigreeFunction  768 non-null    float64\n",
            " 7   Age                       768 non-null    int64  \n",
            " 8   Outcome                   768 non-null    int64  \n",
            "dtypes: float64(2), int64(7)\n",
            "memory usage: 54.1 KB\n"
          ]
        }
      ]
    },
    {
      "cell_type": "code",
      "source": [
        "# Splitting the data into train and test and preprocessing them differently to avoid data lekage\n",
        "\n",
        "from sklearn.model_selection import train_test_split\n",
        "\n",
        "X = dataset.drop(\"Outcome\", axis=1)\n",
        "y = dataset[\"Outcome\"]\n",
        "\n",
        "\n",
        "train_X, test_X, train_y, test_y = train_test_split(X,y, test_size=0.2, random_state=101)\n",
        "\n",
        "# Combining the features and labels\n",
        "X = pd.concat([train_X, train_y], axis=1)\n",
        "y = pd.concat([test_X, test_y], axis=1)"
      ],
      "metadata": {
        "id": "_zKNZgDvUYGP"
      },
      "execution_count": 11,
      "outputs": []
    },
    {
      "cell_type": "code",
      "source": [
        "X.head()"
      ],
      "metadata": {
        "colab": {
          "base_uri": "https://localhost:8080/",
          "height": 204
        },
        "id": "IL-yfl1TWHAX",
        "outputId": "e1dfb50d-ec97-4f4b-9503-ba89763fb300"
      },
      "execution_count": 16,
      "outputs": [
        {
          "output_type": "execute_result",
          "data": {
            "text/plain": [
              "     Pregnancies  Glucose  BloodPressure  SkinThickness  Insulin   BMI  \\\n",
              "709            2       93             64             32      160  38.0   \n",
              "425            4      184             78             39      277  37.0   \n",
              "135            2      125             60             20      140  33.8   \n",
              "630            7      114             64              0        0  27.4   \n",
              "500            2      117             90             19       71  25.2   \n",
              "\n",
              "     DiabetesPedigreeFunction  Age  Outcome  \n",
              "709                     0.674   23        1  \n",
              "425                     0.264   31        1  \n",
              "135                     0.088   31        0  \n",
              "630                     0.732   34        1  \n",
              "500                     0.313   21        0  "
            ],
            "text/html": [
              "\n",
              "  <div id=\"df-25074b8c-6c56-44c8-92b5-b95c493005d1\">\n",
              "    <div class=\"colab-df-container\">\n",
              "      <div>\n",
              "<style scoped>\n",
              "    .dataframe tbody tr th:only-of-type {\n",
              "        vertical-align: middle;\n",
              "    }\n",
              "\n",
              "    .dataframe tbody tr th {\n",
              "        vertical-align: top;\n",
              "    }\n",
              "\n",
              "    .dataframe thead th {\n",
              "        text-align: right;\n",
              "    }\n",
              "</style>\n",
              "<table border=\"1\" class=\"dataframe\">\n",
              "  <thead>\n",
              "    <tr style=\"text-align: right;\">\n",
              "      <th></th>\n",
              "      <th>Pregnancies</th>\n",
              "      <th>Glucose</th>\n",
              "      <th>BloodPressure</th>\n",
              "      <th>SkinThickness</th>\n",
              "      <th>Insulin</th>\n",
              "      <th>BMI</th>\n",
              "      <th>DiabetesPedigreeFunction</th>\n",
              "      <th>Age</th>\n",
              "      <th>Outcome</th>\n",
              "    </tr>\n",
              "  </thead>\n",
              "  <tbody>\n",
              "    <tr>\n",
              "      <th>709</th>\n",
              "      <td>2</td>\n",
              "      <td>93</td>\n",
              "      <td>64</td>\n",
              "      <td>32</td>\n",
              "      <td>160</td>\n",
              "      <td>38.0</td>\n",
              "      <td>0.674</td>\n",
              "      <td>23</td>\n",
              "      <td>1</td>\n",
              "    </tr>\n",
              "    <tr>\n",
              "      <th>425</th>\n",
              "      <td>4</td>\n",
              "      <td>184</td>\n",
              "      <td>78</td>\n",
              "      <td>39</td>\n",
              "      <td>277</td>\n",
              "      <td>37.0</td>\n",
              "      <td>0.264</td>\n",
              "      <td>31</td>\n",
              "      <td>1</td>\n",
              "    </tr>\n",
              "    <tr>\n",
              "      <th>135</th>\n",
              "      <td>2</td>\n",
              "      <td>125</td>\n",
              "      <td>60</td>\n",
              "      <td>20</td>\n",
              "      <td>140</td>\n",
              "      <td>33.8</td>\n",
              "      <td>0.088</td>\n",
              "      <td>31</td>\n",
              "      <td>0</td>\n",
              "    </tr>\n",
              "    <tr>\n",
              "      <th>630</th>\n",
              "      <td>7</td>\n",
              "      <td>114</td>\n",
              "      <td>64</td>\n",
              "      <td>0</td>\n",
              "      <td>0</td>\n",
              "      <td>27.4</td>\n",
              "      <td>0.732</td>\n",
              "      <td>34</td>\n",
              "      <td>1</td>\n",
              "    </tr>\n",
              "    <tr>\n",
              "      <th>500</th>\n",
              "      <td>2</td>\n",
              "      <td>117</td>\n",
              "      <td>90</td>\n",
              "      <td>19</td>\n",
              "      <td>71</td>\n",
              "      <td>25.2</td>\n",
              "      <td>0.313</td>\n",
              "      <td>21</td>\n",
              "      <td>0</td>\n",
              "    </tr>\n",
              "  </tbody>\n",
              "</table>\n",
              "</div>\n",
              "      <button class=\"colab-df-convert\" onclick=\"convertToInteractive('df-25074b8c-6c56-44c8-92b5-b95c493005d1')\"\n",
              "              title=\"Convert this dataframe to an interactive table.\"\n",
              "              style=\"display:none;\">\n",
              "        \n",
              "  <svg xmlns=\"http://www.w3.org/2000/svg\" height=\"24px\"viewBox=\"0 0 24 24\"\n",
              "       width=\"24px\">\n",
              "    <path d=\"M0 0h24v24H0V0z\" fill=\"none\"/>\n",
              "    <path d=\"M18.56 5.44l.94 2.06.94-2.06 2.06-.94-2.06-.94-.94-2.06-.94 2.06-2.06.94zm-11 1L8.5 8.5l.94-2.06 2.06-.94-2.06-.94L8.5 2.5l-.94 2.06-2.06.94zm10 10l.94 2.06.94-2.06 2.06-.94-2.06-.94-.94-2.06-.94 2.06-2.06.94z\"/><path d=\"M17.41 7.96l-1.37-1.37c-.4-.4-.92-.59-1.43-.59-.52 0-1.04.2-1.43.59L10.3 9.45l-7.72 7.72c-.78.78-.78 2.05 0 2.83L4 21.41c.39.39.9.59 1.41.59.51 0 1.02-.2 1.41-.59l7.78-7.78 2.81-2.81c.8-.78.8-2.07 0-2.86zM5.41 20L4 18.59l7.72-7.72 1.47 1.35L5.41 20z\"/>\n",
              "  </svg>\n",
              "      </button>\n",
              "      \n",
              "  <style>\n",
              "    .colab-df-container {\n",
              "      display:flex;\n",
              "      flex-wrap:wrap;\n",
              "      gap: 12px;\n",
              "    }\n",
              "\n",
              "    .colab-df-convert {\n",
              "      background-color: #E8F0FE;\n",
              "      border: none;\n",
              "      border-radius: 50%;\n",
              "      cursor: pointer;\n",
              "      display: none;\n",
              "      fill: #1967D2;\n",
              "      height: 32px;\n",
              "      padding: 0 0 0 0;\n",
              "      width: 32px;\n",
              "    }\n",
              "\n",
              "    .colab-df-convert:hover {\n",
              "      background-color: #E2EBFA;\n",
              "      box-shadow: 0px 1px 2px rgba(60, 64, 67, 0.3), 0px 1px 3px 1px rgba(60, 64, 67, 0.15);\n",
              "      fill: #174EA6;\n",
              "    }\n",
              "\n",
              "    [theme=dark] .colab-df-convert {\n",
              "      background-color: #3B4455;\n",
              "      fill: #D2E3FC;\n",
              "    }\n",
              "\n",
              "    [theme=dark] .colab-df-convert:hover {\n",
              "      background-color: #434B5C;\n",
              "      box-shadow: 0px 1px 3px 1px rgba(0, 0, 0, 0.15);\n",
              "      filter: drop-shadow(0px 1px 2px rgba(0, 0, 0, 0.3));\n",
              "      fill: #FFFFFF;\n",
              "    }\n",
              "  </style>\n",
              "\n",
              "      <script>\n",
              "        const buttonEl =\n",
              "          document.querySelector('#df-25074b8c-6c56-44c8-92b5-b95c493005d1 button.colab-df-convert');\n",
              "        buttonEl.style.display =\n",
              "          google.colab.kernel.accessAllowed ? 'block' : 'none';\n",
              "\n",
              "        async function convertToInteractive(key) {\n",
              "          const element = document.querySelector('#df-25074b8c-6c56-44c8-92b5-b95c493005d1');\n",
              "          const dataTable =\n",
              "            await google.colab.kernel.invokeFunction('convertToInteractive',\n",
              "                                                     [key], {});\n",
              "          if (!dataTable) return;\n",
              "\n",
              "          const docLinkHtml = 'Like what you see? Visit the ' +\n",
              "            '<a target=\"_blank\" href=https://colab.research.google.com/notebooks/data_table.ipynb>data table notebook</a>'\n",
              "            + ' to learn more about interactive tables.';\n",
              "          element.innerHTML = '';\n",
              "          dataTable['output_type'] = 'display_data';\n",
              "          await google.colab.output.renderOutput(dataTable, element);\n",
              "          const docLink = document.createElement('div');\n",
              "          docLink.innerHTML = docLinkHtml;\n",
              "          element.appendChild(docLink);\n",
              "        }\n",
              "      </script>\n",
              "    </div>\n",
              "  </div>\n",
              "  "
            ]
          },
          "metadata": {},
          "execution_count": 16
        }
      ]
    },
    {
      "cell_type": "code",
      "source": [
        "# Checking for any missing values\n",
        "\n",
        "X.isna().any()"
      ],
      "metadata": {
        "colab": {
          "base_uri": "https://localhost:8080/"
        },
        "id": "F9eKsgZoWKFD",
        "outputId": "d3826d9a-5fed-48af-b1e1-7fb64fd52cce"
      },
      "execution_count": 17,
      "outputs": [
        {
          "output_type": "execute_result",
          "data": {
            "text/plain": [
              "Pregnancies                 False\n",
              "Glucose                     False\n",
              "BloodPressure               False\n",
              "SkinThickness               False\n",
              "Insulin                     False\n",
              "BMI                         False\n",
              "DiabetesPedigreeFunction    False\n",
              "Age                         False\n",
              "Outcome                     False\n",
              "dtype: bool"
            ]
          },
          "metadata": {},
          "execution_count": 17
        }
      ]
    },
    {
      "cell_type": "markdown",
      "source": [
        " There are no missing values"
      ],
      "metadata": {
        "id": "_RsBHUKnXpNW"
      }
    },
    {
      "cell_type": "code",
      "source": [
        "# Percentage of outputs \n",
        "\n",
        "print(\"0 count: \",np.round(X[\"Outcome\"].value_counts()[0] / len(X[\"Outcome\"]) * 100,2),\"\\n\",\"1 count:\",np.round(X[\"Outcome\"].value_counts()[1] / len(X[\"Outcome\"]) * 100,2))"
      ],
      "metadata": {
        "colab": {
          "base_uri": "https://localhost:8080/"
        },
        "id": "yU_CrQOkXoID",
        "outputId": "b9bccb1f-0b95-46ff-cd28-b95ccd7789e5"
      },
      "execution_count": 26,
      "outputs": [
        {
          "output_type": "stream",
          "name": "stdout",
          "text": [
            "0 count:  64.66 \n",
            " 1 count: 35.34\n"
          ]
        }
      ]
    },
    {
      "cell_type": "code",
      "source": [
        "# Importing visualization libraries\n",
        "\n",
        "import matplotlib.pyplot as plt\n",
        "%matplotlib inline \n",
        "\n",
        "import seaborn as sns"
      ],
      "metadata": {
        "id": "4ikLio5XY4O1"
      },
      "execution_count": 27,
      "outputs": []
    },
    {
      "cell_type": "code",
      "source": [
        "plot = sns.barplot(x=X[\"Pregnancies\"].value_counts().index,  y = X[\"Pregnancies\"].value_counts())\n",
        "plot.set_xlabel(\"PREGNANCIES\")\n",
        "plot.set_ylabel(\"COUNT\")"
      ],
      "metadata": {
        "colab": {
          "base_uri": "https://localhost:8080/",
          "height": 296
        },
        "id": "FNoqVlIGaGB3",
        "outputId": "9d52a1bf-6ebe-4330-a257-8e7f15b6c29c"
      },
      "execution_count": 59,
      "outputs": [
        {
          "output_type": "execute_result",
          "data": {
            "text/plain": [
              "Text(0, 0.5, 'COUNT')"
            ]
          },
          "metadata": {},
          "execution_count": 59
        },
        {
          "output_type": "display_data",
          "data": {
            "text/plain": [
              "<Figure size 432x288 with 1 Axes>"
            ],
            "image/png": "[encoded data removed]"
          },
          "metadata": {
            "needs_background": "light"
          }
        }
      ]
    },
    {
      "cell_type": "code",
      "source": [
        "sns.scatterplot(X['Glucose'], X[\"BMI\"])"
      ],
      "metadata": {
        "colab": {
          "base_uri": "https://localhost:8080/",
          "height": 353
        },
        "id": "GfXdFqoNaKbx",
        "outputId": "5eef5ef4-cb36-4e3d-e9f2-fbdf21a02ae7"
      },
      "execution_count": 60,
      "outputs": [
        {
          "output_type": "stream",
          "name": "stderr",
          "text": [
            "/usr/local/lib/python3.7/dist-packages/seaborn/_decorators.py:43: FutureWarning: Pass the following variables as keyword args: x, y. From version 0.12, the only valid positional argument will be `data`, and passing other arguments without an explicit keyword will result in an error or misinterpretation.\n",
            "  FutureWarning\n"
          ]
        },
        {
          "output_type": "execute_result",
          "data": {
            "text/plain": [
              "<matplotlib.axes._subplots.AxesSubplot at 0x7f5bfc174e50>"
            ]
          },
          "metadata": {},
          "execution_count": 60
        },
        {
          "output_type": "display_data",
          "data": {
            "text/plain": [
              "<Figure size 432x288 with 1 Axes>"
            ],
            "image/png": "[encoded data removed]"
          },
          "metadata": {
            "needs_background": "light"
          }
        }
      ]
    },
    {
      "cell_type": "code",
      "source": [
        "# Peforming scaling on train and test data seperately\n",
        "\n",
        "from sklearn.preprocessing import MinMaxScaler\n",
        "\n",
        "train_scaler = MinMaxScaler()\n",
        "\n",
        "test_scaler = MinMaxScaler()\n",
        "\n",
        "X = pd.DataFrame(train_scaler.fit_transform(X), columns = X.columns)\n",
        "\n",
        "y = pd.DataFrame(test_scaler.fit_transform(y), columns = y.columns)"
      ],
      "metadata": {
        "id": "VEt_OxeTaSkR"
      },
      "execution_count": 61,
      "outputs": []
    },
    {
      "cell_type": "code",
      "source": [
        "# Spllitting into train and validaton test with respect to features and labels \n",
        "\n",
        "train_X = X.drop(\"Outcome\", axis=1)\n",
        "train_y = X[\"Outcome\"]\n",
        "\n",
        "test_X = y.drop(\"Outcome\", axis=1)\n",
        "test_y = y[\"Outcome\"]"
      ],
      "metadata": {
        "id": "iVyWPgh9e0Sj"
      },
      "execution_count": 63,
      "outputs": []
    },
    {
      "cell_type": "markdown",
      "source": [
        "# MODEL "
      ],
      "metadata": {
        "id": "y9Q_lLVYfWS7"
      }
    },
    {
      "cell_type": "code",
      "source": [
        "import tensorflow as tf\n",
        "from tensorflow import keras\n",
        "\n",
        "from keras.layers import Dense, Dropout, InputLayer\n",
        "from keras.models import Model, Sequential "
      ],
      "metadata": {
        "id": "eiGF8G3ae1Fw"
      },
      "execution_count": 68,
      "outputs": []
    },
    {
      "cell_type": "code",
      "source": [
        "def build_model(layers = 1, input_shape = [8,], units = 100):\n",
        "  model = keras.models.Sequential()\n",
        "  model.add(InputLayer(input_shape = input_shape))\n",
        "\n",
        "  for layers in range(layers):\n",
        "    model.add(Dense(units, activation=\"relu\"))\n",
        "\n",
        "  model.add(Dense(1, activation=\"sigmoid\"))\n",
        "\n",
        "  model.compile(optimizer=\"adam\", loss=\"binary_crossentropy\", metrics=['Precision'])\n",
        "\n",
        "  return model"
      ],
      "metadata": {
        "id": "TC5nrVX5ft9C"
      },
      "execution_count": 134,
      "outputs": []
    },
    {
      "cell_type": "code",
      "source": [
        "wrapper = keras.wrappers.scikit_learn.KerasClassifier(build_model)"
      ],
      "metadata": {
        "colab": {
          "base_uri": "https://localhost:8080/"
        },
        "id": "4Keg8yZ2jltE",
        "outputId": "1b1a7d75-51fb-4d59-b373-44aba14454c5"
      },
      "execution_count": 135,
      "outputs": [
        {
          "output_type": "stream",
          "name": "stderr",
          "text": [
            "/usr/local/lib/python3.7/dist-packages/ipykernel_launcher.py:1: DeprecationWarning: KerasClassifier is deprecated, use Sci-Keras (https://github.com/adriangb/scikeras) instead. See https://www.adriangb.com/scikeras/stable/migration.html for help migrating.\n",
            "  \"\"\"Entry point for launching an IPython kernel.\n"
          ]
        }
      ]
    },
    {
      "cell_type": "code",
      "source": [
        "from sklearn.model_selection import RandomizedSearchCV"
      ],
      "metadata": {
        "id": "qGQSoUoSjrpQ"
      },
      "execution_count": 136,
      "outputs": []
    },
    {
      "cell_type": "code",
      "source": [
        "params = {\n",
        "    \"layers\":[x for x in range(1,5,1)],\n",
        "    \"units\" : [x for x in range(100, 300, 50)]\n",
        "}"
      ],
      "metadata": {
        "id": "7OLXSI6VmTQi"
      },
      "execution_count": 137,
      "outputs": []
    },
    {
      "cell_type": "code",
      "source": [
        "ann_model = RandomizedSearchCV(wrapper, params, n_iter=10, cv=3)"
      ],
      "metadata": {
        "id": "4SUj-ZNMkxBG"
      },
      "execution_count": 138,
      "outputs": []
    },
    {
      "cell_type": "code",
      "source": [
        "ann_model.fit(train_X, train_y, epochs = 20, validation_data=(test_X, test_y), callbacks=[keras.callbacks.EarlyStopping(patience=10)])"
      ],
      "metadata": {
        "colab": {
          "base_uri": "https://localhost:8080/"
        },
        "id": "2Up0E9XRmo9l",
        "outputId": "e05cb817-d06b-4dac-8b08-b2f7f9631b74"
      },
      "execution_count": null,
      "outputs": [
        {
          "output_type": "stream",
          "name": "stdout",
          "text": [
            "Epoch 1/20\n",
            "13/13 [==============================] - 1s 27ms/step - loss: 0.6743 - precision: 0.0000e+00 - val_loss: 0.6379 - val_precision: 0.0000e+00\n",
            "Epoch 2/20\n",
            "13/13 [==============================] - 0s 7ms/step - loss: 0.6414 - precision: 1.0000 - val_loss: 0.6024 - val_precision: 0.5714\n",
            "Epoch 3/20\n",
            "13/13 [==============================] - 0s 5ms/step - loss: 0.6125 - precision: 0.5634 - val_loss: 0.5634 - val_precision: 0.5714\n",
            "Epoch 4/20\n",
            "13/13 [==============================] - 0s 7ms/step - loss: 0.5791 - precision: 0.5932 - val_loss: 0.5303 - val_precision: 0.6000\n",
            "Epoch 5/20\n",
            "13/13 [==============================] - 0s 5ms/step - loss: 0.5502 - precision: 0.6127 - val_loss: 0.4937 - val_precision: 0.5893\n",
            "Epoch 6/20\n",
            "13/13 [==============================] - 0s 6ms/step - loss: 0.5371 - precision: 0.6417 - val_loss: 0.4806 - val_precision: 0.7143\n",
            "Epoch 7/20\n",
            "13/13 [==============================] - 0s 6ms/step - loss: 0.5159 - precision: 0.6163 - val_loss: 0.5218 - val_precision: 0.8182\n",
            "Epoch 8/20\n",
            "13/13 [==============================] - 0s 5ms/step - loss: 0.5042 - precision: 0.6786 - val_loss: 0.5245 - val_precision: 0.8500\n",
            "Epoch 9/20\n",
            "13/13 [==============================] - 0s 7ms/step - loss: 0.4860 - precision: 0.7097 - val_loss: 0.4566 - val_precision: 0.7647\n",
            "Epoch 10/20\n",
            "13/13 [==============================] - 0s 6ms/step - loss: 0.4703 - precision: 0.7143 - val_loss: 0.4446 - val_precision: 0.6977\n",
            "Epoch 11/20\n",
            "13/13 [==============================] - 0s 6ms/step - loss: 0.4810 - precision: 0.7101 - val_loss: 0.4464 - val_precision: 0.7500\n",
            "Epoch 12/20\n",
            "13/13 [==============================] - 0s 5ms/step - loss: 0.4459 - precision: 0.7521 - val_loss: 0.4436 - val_precision: 0.7250\n",
            "Epoch 13/20\n",
            "13/13 [==============================] - 0s 6ms/step - loss: 0.4397 - precision: 0.7642 - val_loss: 0.4515 - val_precision: 0.6316\n",
            "Epoch 14/20\n",
            "13/13 [==============================] - 0s 6ms/step - loss: 0.4551 - precision: 0.7185 - val_loss: 0.4400 - val_precision: 0.6667\n",
            "Epoch 15/20\n",
            "13/13 [==============================] - 0s 5ms/step - loss: 0.4337 - precision: 0.7385 - val_loss: 0.4513 - val_precision: 0.7561\n",
            "Epoch 16/20\n",
            "13/13 [==============================] - 0s 6ms/step - loss: 0.4123 - precision: 0.7656 - val_loss: 0.4786 - val_precision: 0.8333\n",
            "Epoch 17/20\n",
            "13/13 [==============================] - 0s 8ms/step - loss: 0.4159 - precision: 0.7576 - val_loss: 0.4923 - val_precision: 0.8438\n",
            "Epoch 18/20\n",
            "13/13 [==============================] - 0s 5ms/step - loss: 0.3986 - precision: 0.7907 - val_loss: 0.4606 - val_precision: 0.6800\n",
            "Epoch 19/20\n",
            "13/13 [==============================] - 0s 6ms/step - loss: 0.4029 - precision: 0.7710 - val_loss: 0.4530 - val_precision: 0.6667\n",
            "Epoch 20/20\n",
            "13/13 [==============================] - 0s 5ms/step - loss: 0.3994 - precision: 0.7710 - val_loss: 0.4878 - val_precision: 0.6429\n",
            "7/7 [==============================] - 0s 3ms/step - loss: 0.5569 - precision: 0.5833\n",
            "Epoch 1/20\n"
          ]
        },
        {
          "output_type": "stream",
          "name": "stderr",
          "text": [
            "/usr/local/lib/python3.7/dist-packages/sklearn/model_selection/_validation.py:774: UserWarning: Scoring failed. The score on this train-test partition for these parameters will be set to nan. Details: \n",
            "Traceback (most recent call last):\n",
            "  File \"/usr/local/lib/python3.7/dist-packages/sklearn/model_selection/_validation.py\", line 761, in _score\n",
            "    scores = scorer(estimator, X_test, y_test)\n",
            "  File \"/usr/local/lib/python3.7/dist-packages/sklearn/metrics/_scorer.py\", line 418, in _passthrough_scorer\n",
            "    return estimator.score(*args, **kwargs)\n",
            "  File \"/usr/local/lib/python3.7/dist-packages/keras/wrappers/scikit_learn.py\", line 323, in score\n",
            "    raise ValueError('The model is not configured to compute accuracy. '\n",
            "ValueError: The model is not configured to compute accuracy. You should pass `metrics=[\"accuracy\"]` to the `model.compile()` method.\n",
            "\n",
            "  UserWarning,\n"
          ]
        },
        {
          "output_type": "stream",
          "name": "stdout",
          "text": [
            "13/13 [==============================] - 1s 27ms/step - loss: 0.6602 - precision: 0.0000e+00 - val_loss: 0.6400 - val_precision: 0.0000e+00\n",
            "Epoch 2/20\n",
            "13/13 [==============================] - 0s 7ms/step - loss: 0.6404 - precision: 0.0000e+00 - val_loss: 0.5970 - val_precision: 1.0000\n",
            "Epoch 3/20\n",
            "13/13 [==============================] - 0s 6ms/step - loss: 0.6093 - precision: 0.6667 - val_loss: 0.5570 - val_precision: 0.7500\n",
            "Epoch 4/20\n",
            "13/13 [==============================] - 0s 8ms/step - loss: 0.5850 - precision: 0.5806 - val_loss: 0.5599 - val_precision: 0.8333\n",
            "Epoch 5/20\n",
            "13/13 [==============================] - 0s 6ms/step - loss: 0.5593 - precision: 0.6484 - val_loss: 0.4901 - val_precision: 0.6596\n",
            "Epoch 6/20\n",
            "13/13 [==============================] - 0s 7ms/step - loss: 0.5229 - precision: 0.6694 - val_loss: 0.6143 - val_precision: 0.7500\n",
            "Epoch 7/20\n",
            "13/13 [==============================] - 0s 5ms/step - loss: 0.5482 - precision: 0.6167 - val_loss: 0.5678 - val_precision: 0.8000\n",
            "Epoch 8/20\n",
            "13/13 [==============================] - 0s 5ms/step - loss: 0.5253 - precision: 0.6207 - val_loss: 0.5070 - val_precision: 0.8750\n",
            "Epoch 9/20\n",
            "13/13 [==============================] - 0s 5ms/step - loss: 0.4956 - precision: 0.6991 - val_loss: 0.5365 - val_precision: 0.8636\n",
            "Epoch 10/20\n",
            "13/13 [==============================] - 0s 5ms/step - loss: 0.4856 - precision: 0.7629 - val_loss: 0.4581 - val_precision: 0.7353\n",
            "Epoch 11/20\n",
            "13/13 [==============================] - 0s 5ms/step - loss: 0.4785 - precision: 0.7217 - val_loss: 0.4558 - val_precision: 0.7429\n",
            "Epoch 12/20\n",
            "13/13 [==============================] - 0s 6ms/step - loss: 0.4691 - precision: 0.7411 - val_loss: 0.4635 - val_precision: 0.7647\n",
            "Epoch 13/20\n",
            "13/13 [==============================] - 0s 6ms/step - loss: 0.4624 - precision: 0.7434 - val_loss: 0.4457 - val_precision: 0.7381\n",
            "Epoch 14/20\n",
            "13/13 [==============================] - 0s 8ms/step - loss: 0.4470 - precision: 0.7295 - val_loss: 0.5060 - val_precision: 0.8148\n",
            "Epoch 15/20\n",
            "13/13 [==============================] - 0s 5ms/step - loss: 0.4457 - precision: 0.7165 - val_loss: 0.5752 - val_precision: 0.8333\n",
            "Epoch 16/20\n",
            "13/13 [==============================] - 0s 6ms/step - loss: 0.4399 - precision: 0.7377 - val_loss: 0.4815 - val_precision: 0.7576\n",
            "Epoch 17/20\n",
            "13/13 [==============================] - 0s 6ms/step - loss: 0.4360 - precision: 0.7565 - val_loss: 0.4875 - val_precision: 0.8065\n",
            "Epoch 18/20\n",
            "13/13 [==============================] - 0s 7ms/step - loss: 0.4410 - precision: 0.7311 - val_loss: 0.4598 - val_precision: 0.7500\n",
            "Epoch 19/20\n",
            "13/13 [==============================] - 0s 7ms/step - loss: 0.4299 - precision: 0.7313 - val_loss: 0.5131 - val_precision: 0.8276\n",
            "Epoch 20/20\n",
            "13/13 [==============================] - 0s 7ms/step - loss: 0.4213 - precision: 0.7672 - val_loss: 0.4843 - val_precision: 0.7576\n",
            "7/7 [==============================] - 0s 3ms/step - loss: 0.4813 - precision: 0.7759\n",
            "Epoch 1/20\n"
          ]
        },
        {
          "output_type": "stream",
          "name": "stderr",
          "text": [
            "/usr/local/lib/python3.7/dist-packages/sklearn/model_selection/_validation.py:774: UserWarning: Scoring failed. The score on this train-test partition for these parameters will be set to nan. Details: \n",
            "Traceback (most recent call last):\n",
            "  File \"/usr/local/lib/python3.7/dist-packages/sklearn/model_selection/_validation.py\", line 761, in _score\n",
            "    scores = scorer(estimator, X_test, y_test)\n",
            "  File \"/usr/local/lib/python3.7/dist-packages/sklearn/metrics/_scorer.py\", line 418, in _passthrough_scorer\n",
            "    return estimator.score(*args, **kwargs)\n",
            "  File \"/usr/local/lib/python3.7/dist-packages/keras/wrappers/scikit_learn.py\", line 323, in score\n",
            "    raise ValueError('The model is not configured to compute accuracy. '\n",
            "ValueError: The model is not configured to compute accuracy. You should pass `metrics=[\"accuracy\"]` to the `model.compile()` method.\n",
            "\n",
            "  UserWarning,\n"
          ]
        },
        {
          "output_type": "stream",
          "name": "stdout",
          "text": [
            "13/13 [==============================] - 2s 28ms/step - loss: 0.6638 - precision: 0.0000e+00 - val_loss: 0.6386 - val_precision: 0.0000e+00\n",
            "Epoch 2/20\n",
            "13/13 [==============================] - 0s 6ms/step - loss: 0.6303 - precision: 0.7500 - val_loss: 0.6061 - val_precision: 0.5294\n",
            "Epoch 3/20\n",
            "13/13 [==============================] - 0s 6ms/step - loss: 0.6010 - precision: 0.5775 - val_loss: 0.5766 - val_precision: 0.5806\n",
            "Epoch 4/20\n",
            "13/13 [==============================] - 0s 7ms/step - loss: 0.5714 - precision: 0.5963 - val_loss: 0.5591 - val_precision: 0.5312\n",
            "Epoch 5/20\n",
            "13/13 [==============================] - 0s 6ms/step - loss: 0.5559 - precision: 0.6330 - val_loss: 0.5508 - val_precision: 0.6296\n",
            "Epoch 6/20\n",
            "13/13 [==============================] - 0s 7ms/step - loss: 0.5418 - precision: 0.7033 - val_loss: 0.5472 - val_precision: 0.6066\n",
            "Epoch 7/20\n",
            "13/13 [==============================] - 0s 7ms/step - loss: 0.5628 - precision: 0.6190 - val_loss: 0.5187 - val_precision: 0.6250\n",
            "Epoch 8/20\n",
            "13/13 [==============================] - 0s 6ms/step - loss: 0.5318 - precision: 0.6612 - val_loss: 0.5313 - val_precision: 0.6500\n",
            "Epoch 9/20\n",
            "13/13 [==============================] - 0s 6ms/step - loss: 0.5115 - precision: 0.6881 - val_loss: 0.5123 - val_precision: 0.6389\n",
            "Epoch 10/20\n",
            "13/13 [==============================] - 0s 7ms/step - loss: 0.4966 - precision: 0.7228 - val_loss: 0.4943 - val_precision: 0.6222\n",
            "Epoch 11/20\n",
            "13/13 [==============================] - 0s 5ms/step - loss: 0.5037 - precision: 0.6864 - val_loss: 0.4900 - val_precision: 0.7273\n",
            "Epoch 12/20\n",
            "13/13 [==============================] - 0s 7ms/step - loss: 0.4776 - precision: 0.7043 - val_loss: 0.4854 - val_precision: 0.7500\n",
            "Epoch 13/20\n",
            "13/13 [==============================] - 0s 5ms/step - loss: 0.4709 - precision: 0.7297 - val_loss: 0.4820 - val_precision: 0.7353\n",
            "Epoch 14/20\n",
            "13/13 [==============================] - 0s 6ms/step - loss: 0.4615 - precision: 0.7368 - val_loss: 0.5091 - val_precision: 0.7826\n",
            "Epoch 15/20\n",
            "13/13 [==============================] - 0s 7ms/step - loss: 0.4539 - precision: 0.7414 - val_loss: 0.4913 - val_precision: 0.8000\n",
            "Epoch 16/20\n",
            "13/13 [==============================] - 0s 7ms/step - loss: 0.4626 - precision: 0.7087 - val_loss: 0.5463 - val_precision: 0.7778\n",
            "Epoch 17/20\n",
            "13/13 [==============================] - 0s 6ms/step - loss: 0.4492 - precision: 0.7455 - val_loss: 0.4731 - val_precision: 0.7111\n",
            "Epoch 18/20\n",
            "13/13 [==============================] - 0s 5ms/step - loss: 0.4362 - precision: 0.7870 - val_loss: 0.4676 - val_precision: 0.7381\n",
            "Epoch 19/20\n",
            "13/13 [==============================] - 0s 6ms/step - loss: 0.4435 - precision: 0.7377 - val_loss: 0.4766 - val_precision: 0.7209\n",
            "Epoch 20/20\n",
            "13/13 [==============================] - 0s 6ms/step - loss: 0.4285 - precision: 0.8095 - val_loss: 0.4753 - val_precision: 0.7317\n",
            "7/7 [==============================] - 0s 4ms/step - loss: 0.4722 - precision: 0.6528\n",
            "Epoch 1/20\n"
          ]
        },
        {
          "output_type": "stream",
          "name": "stderr",
          "text": [
            "/usr/local/lib/python3.7/dist-packages/sklearn/model_selection/_validation.py:774: UserWarning: Scoring failed. The score on this train-test partition for these parameters will be set to nan. Details: \n",
            "Traceback (most recent call last):\n",
            "  File \"/usr/local/lib/python3.7/dist-packages/sklearn/model_selection/_validation.py\", line 761, in _score\n",
            "    scores = scorer(estimator, X_test, y_test)\n",
            "  File \"/usr/local/lib/python3.7/dist-packages/sklearn/metrics/_scorer.py\", line 418, in _passthrough_scorer\n",
            "    return estimator.score(*args, **kwargs)\n",
            "  File \"/usr/local/lib/python3.7/dist-packages/keras/wrappers/scikit_learn.py\", line 323, in score\n",
            "    raise ValueError('The model is not configured to compute accuracy. '\n",
            "ValueError: The model is not configured to compute accuracy. You should pass `metrics=[\"accuracy\"]` to the `model.compile()` method.\n",
            "\n",
            "  UserWarning,\n"
          ]
        },
        {
          "output_type": "stream",
          "name": "stdout",
          "text": [
            "13/13 [==============================] - 1s 26ms/step - loss: 0.6641 - precision: 0.4286 - val_loss: 0.6277 - val_precision: 0.0000e+00\n",
            "Epoch 2/20\n",
            "13/13 [==============================] - 0s 6ms/step - loss: 0.6286 - precision: 0.6250 - val_loss: 0.5769 - val_precision: 0.6154\n",
            "Epoch 3/20\n",
            "13/13 [==============================] - 0s 9ms/step - loss: 0.5870 - precision: 0.5896 - val_loss: 0.5389 - val_precision: 0.6562\n",
            "Epoch 4/20\n",
            "13/13 [==============================] - 0s 7ms/step - loss: 0.5571 - precision: 0.6667 - val_loss: 0.4986 - val_precision: 0.7000\n",
            "Epoch 5/20\n",
            "13/13 [==============================] - 0s 8ms/step - loss: 0.5196 - precision: 0.6493 - val_loss: 0.4768 - val_precision: 0.7222\n",
            "Epoch 6/20\n",
            "13/13 [==============================] - 0s 8ms/step - loss: 0.4966 - precision: 0.6759 - val_loss: 0.5207 - val_precision: 0.8696\n",
            "Epoch 7/20\n",
            "13/13 [==============================] - 0s 8ms/step - loss: 0.4840 - precision: 0.6800 - val_loss: 0.4746 - val_precision: 0.8400\n",
            "Epoch 8/20\n",
            "13/13 [==============================] - 0s 6ms/step - loss: 0.4978 - precision: 0.6825 - val_loss: 0.4614 - val_precision: 0.7778\n",
            "Epoch 9/20\n",
            "13/13 [==============================] - 0s 6ms/step - loss: 0.4798 - precision: 0.6985 - val_loss: 0.4427 - val_precision: 0.7045\n",
            "Epoch 10/20\n",
            "13/13 [==============================] - 0s 7ms/step - loss: 0.4457 - precision: 0.7438 - val_loss: 0.4485 - val_precision: 0.7500\n",
            "Epoch 11/20\n",
            "13/13 [==============================] - 0s 7ms/step - loss: 0.4340 - precision: 0.7634 - val_loss: 0.5350 - val_precision: 0.8750\n",
            "Epoch 12/20\n",
            "13/13 [==============================] - 0s 8ms/step - loss: 0.4331 - precision: 0.7440 - val_loss: 0.4917 - val_precision: 0.8148\n",
            "Epoch 13/20\n",
            "13/13 [==============================] - 0s 9ms/step - loss: 0.4375 - precision: 0.7405 - val_loss: 0.4743 - val_precision: 0.8125\n",
            "Epoch 14/20\n",
            "13/13 [==============================] - 0s 7ms/step - loss: 0.4185 - precision: 0.7519 - val_loss: 0.4576 - val_precision: 0.6296\n",
            "Epoch 15/20\n",
            "13/13 [==============================] - 0s 8ms/step - loss: 0.4261 - precision: 0.7574 - val_loss: 0.4720 - val_precision: 0.6552\n",
            "Epoch 16/20\n",
            "13/13 [==============================] - 0s 7ms/step - loss: 0.4419 - precision: 0.7391 - val_loss: 0.4636 - val_precision: 0.6667\n",
            "Epoch 17/20\n",
            "13/13 [==============================] - 0s 8ms/step - loss: 0.4463 - precision: 0.7252 - val_loss: 0.4612 - val_precision: 0.7273\n",
            "Epoch 18/20\n",
            "13/13 [==============================] - 0s 6ms/step - loss: 0.4157 - precision: 0.7188 - val_loss: 0.5093 - val_precision: 0.8214\n",
            "Epoch 19/20\n",
            "13/13 [==============================] - 0s 8ms/step - loss: 0.3902 - precision: 0.7863 - val_loss: 0.4692 - val_precision: 0.6429\n",
            "7/7 [==============================] - 0s 3ms/step - loss: 0.5902 - precision: 0.5312\n",
            "Epoch 1/20\n"
          ]
        },
        {
          "output_type": "stream",
          "name": "stderr",
          "text": [
            "/usr/local/lib/python3.7/dist-packages/sklearn/model_selection/_validation.py:774: UserWarning: Scoring failed. The score on this train-test partition for these parameters will be set to nan. Details: \n",
            "Traceback (most recent call last):\n",
            "  File \"/usr/local/lib/python3.7/dist-packages/sklearn/model_selection/_validation.py\", line 761, in _score\n",
            "    scores = scorer(estimator, X_test, y_test)\n",
            "  File \"/usr/local/lib/python3.7/dist-packages/sklearn/metrics/_scorer.py\", line 418, in _passthrough_scorer\n",
            "    return estimator.score(*args, **kwargs)\n",
            "  File \"/usr/local/lib/python3.7/dist-packages/keras/wrappers/scikit_learn.py\", line 323, in score\n",
            "    raise ValueError('The model is not configured to compute accuracy. '\n",
            "ValueError: The model is not configured to compute accuracy. You should pass `metrics=[\"accuracy\"]` to the `model.compile()` method.\n",
            "\n",
            "  UserWarning,\n"
          ]
        },
        {
          "output_type": "stream",
          "name": "stdout",
          "text": [
            "13/13 [==============================] - 1s 28ms/step - loss: 0.6635 - precision: 0.0000e+00 - val_loss: 0.6299 - val_precision: 0.0000e+00\n",
            "Epoch 2/20\n",
            "13/13 [==============================] - 0s 6ms/step - loss: 0.6336 - precision: 0.6000 - val_loss: 0.5830 - val_precision: 0.6190\n",
            "Epoch 3/20\n",
            "13/13 [==============================] - 0s 7ms/step - loss: 0.6103 - precision: 0.6667 - val_loss: 0.5393 - val_precision: 0.5909\n",
            "Epoch 4/20\n",
            "13/13 [==============================] - 0s 6ms/step - loss: 0.5779 - precision: 0.6000 - val_loss: 0.5490 - val_precision: 0.7692\n",
            "Epoch 5/20\n",
            "13/13 [==============================] - 0s 6ms/step - loss: 0.5538 - precision: 0.6389 - val_loss: 0.5827 - val_precision: 0.8000\n",
            "Epoch 6/20\n",
            "13/13 [==============================] - 0s 8ms/step - loss: 0.5471 - precision: 0.6466 - val_loss: 0.5794 - val_precision: 0.7857\n",
            "Epoch 7/20\n",
            "13/13 [==============================] - 0s 8ms/step - loss: 0.5492 - precision: 0.6216 - val_loss: 0.5027 - val_precision: 0.7857\n",
            "Epoch 8/20\n",
            "13/13 [==============================] - 0s 8ms/step - loss: 0.5125 - precision: 0.6822 - val_loss: 0.4648 - val_precision: 0.7647\n",
            "Epoch 9/20\n",
            "13/13 [==============================] - 0s 7ms/step - loss: 0.4987 - precision: 0.6944 - val_loss: 0.4657 - val_precision: 0.7500\n",
            "Epoch 10/20\n",
            "13/13 [==============================] - 0s 8ms/step - loss: 0.4944 - precision: 0.6942 - val_loss: 0.4781 - val_precision: 0.7667\n",
            "Epoch 11/20\n",
            "13/13 [==============================] - 0s 6ms/step - loss: 0.4718 - precision: 0.7778 - val_loss: 0.4613 - val_precision: 0.7500\n",
            "Epoch 12/20\n",
            "13/13 [==============================] - 0s 6ms/step - loss: 0.4549 - precision: 0.7200 - val_loss: 0.5125 - val_precision: 0.8148\n",
            "Epoch 13/20\n",
            "13/13 [==============================] - 0s 7ms/step - loss: 0.4539 - precision: 0.7377 - val_loss: 0.5475 - val_precision: 0.8148\n",
            "Epoch 14/20\n",
            "13/13 [==============================] - 0s 6ms/step - loss: 0.4521 - precision: 0.7460 - val_loss: 0.5565 - val_precision: 0.8333\n",
            "Epoch 15/20\n",
            "13/13 [==============================] - 0s 7ms/step - loss: 0.4510 - precision: 0.7241 - val_loss: 0.5579 - val_precision: 0.7917\n",
            "Epoch 16/20\n",
            "13/13 [==============================] - 0s 6ms/step - loss: 0.4352 - precision: 0.7712 - val_loss: 0.4583 - val_precision: 0.7568\n",
            "Epoch 17/20\n",
            "13/13 [==============================] - 0s 6ms/step - loss: 0.4223 - precision: 0.7442 - val_loss: 0.6158 - val_precision: 0.8571\n",
            "Epoch 18/20\n",
            "13/13 [==============================] - 0s 8ms/step - loss: 0.4453 - precision: 0.7417 - val_loss: 0.5097 - val_precision: 0.8214\n",
            "Epoch 19/20\n",
            "13/13 [==============================] - 0s 9ms/step - loss: 0.4205 - precision: 0.7563 - val_loss: 0.5096 - val_precision: 0.7931\n",
            "Epoch 20/20\n",
            "13/13 [==============================] - 0s 6ms/step - loss: 0.4181 - precision: 0.7627 - val_loss: 0.4989 - val_precision: 0.7879\n",
            "7/7 [==============================] - 0s 4ms/step - loss: 0.4903 - precision: 0.7759\n",
            "Epoch 1/20\n"
          ]
        },
        {
          "output_type": "stream",
          "name": "stderr",
          "text": [
            "/usr/local/lib/python3.7/dist-packages/sklearn/model_selection/_validation.py:774: UserWarning: Scoring failed. The score on this train-test partition for these parameters will be set to nan. Details: \n",
            "Traceback (most recent call last):\n",
            "  File \"/usr/local/lib/python3.7/dist-packages/sklearn/model_selection/_validation.py\", line 761, in _score\n",
            "    scores = scorer(estimator, X_test, y_test)\n",
            "  File \"/usr/local/lib/python3.7/dist-packages/sklearn/metrics/_scorer.py\", line 418, in _passthrough_scorer\n",
            "    return estimator.score(*args, **kwargs)\n",
            "  File \"/usr/local/lib/python3.7/dist-packages/keras/wrappers/scikit_learn.py\", line 323, in score\n",
            "    raise ValueError('The model is not configured to compute accuracy. '\n",
            "ValueError: The model is not configured to compute accuracy. You should pass `metrics=[\"accuracy\"]` to the `model.compile()` method.\n",
            "\n",
            "  UserWarning,\n"
          ]
        },
        {
          "output_type": "stream",
          "name": "stdout",
          "text": [
            "13/13 [==============================] - 1s 27ms/step - loss: 0.6627 - precision: 0.0000e+00 - val_loss: 0.6376 - val_precision: 0.2500\n",
            "Epoch 2/20\n",
            "13/13 [==============================] - 0s 7ms/step - loss: 0.6337 - precision: 0.6400 - val_loss: 0.5990 - val_precision: 0.5294\n",
            "Epoch 3/20\n",
            "13/13 [==============================] - 0s 8ms/step - loss: 0.5985 - precision: 0.5596 - val_loss: 0.5862 - val_precision: 0.6087\n",
            "Epoch 4/20\n",
            "13/13 [==============================] - 0s 6ms/step - loss: 0.5805 - precision: 0.5797 - val_loss: 0.5765 - val_precision: 0.6154\n",
            "Epoch 5/20\n",
            "13/13 [==============================] - 0s 7ms/step - loss: 0.5546 - precision: 0.6132 - val_loss: 0.5325 - val_precision: 0.5750\n",
            "Epoch 6/20\n",
            "13/13 [==============================] - 0s 6ms/step - loss: 0.5469 - precision: 0.6161 - val_loss: 0.5189 - val_precision: 0.6304\n",
            "Epoch 7/20\n",
            "13/13 [==============================] - 0s 7ms/step - loss: 0.5158 - precision: 0.6549 - val_loss: 0.5189 - val_precision: 0.6562\n",
            "Epoch 8/20\n",
            "13/13 [==============================] - 0s 8ms/step - loss: 0.5025 - precision: 0.7009 - val_loss: 0.5249 - val_precision: 0.8000\n",
            "Epoch 9/20\n",
            "13/13 [==============================] - 0s 7ms/step - loss: 0.4893 - precision: 0.7568 - val_loss: 0.5244 - val_precision: 0.8000\n",
            "Epoch 10/20\n",
            "13/13 [==============================] - 0s 8ms/step - loss: 0.4736 - precision: 0.7257 - val_loss: 0.5070 - val_precision: 0.7778\n",
            "Epoch 11/20\n",
            "13/13 [==============================] - 0s 8ms/step - loss: 0.4779 - precision: 0.7097 - val_loss: 0.5065 - val_precision: 0.7500\n",
            "Epoch 12/20\n",
            "13/13 [==============================] - 0s 8ms/step - loss: 0.4616 - precision: 0.7541 - val_loss: 0.4755 - val_precision: 0.7250\n",
            "Epoch 13/20\n",
            "13/13 [==============================] - 0s 7ms/step - loss: 0.4702 - precision: 0.7436 - val_loss: 0.4938 - val_precision: 0.7879\n",
            "Epoch 14/20\n",
            "13/13 [==============================] - 0s 7ms/step - loss: 0.4408 - precision: 0.7965 - val_loss: 0.4800 - val_precision: 0.7317\n",
            "Epoch 15/20\n",
            "13/13 [==============================] - 0s 7ms/step - loss: 0.4450 - precision: 0.7561 - val_loss: 0.4924 - val_precision: 0.7632\n",
            "Epoch 16/20\n",
            "13/13 [==============================] - 0s 7ms/step - loss: 0.4269 - precision: 0.7881 - val_loss: 0.5012 - val_precision: 0.7941\n",
            "Epoch 17/20\n",
            "13/13 [==============================] - 0s 6ms/step - loss: 0.4221 - precision: 0.7913 - val_loss: 0.5696 - val_precision: 0.7826\n",
            "Epoch 18/20\n",
            "13/13 [==============================] - 0s 7ms/step - loss: 0.4370 - precision: 0.7521 - val_loss: 0.5068 - val_precision: 0.7714\n",
            "Epoch 19/20\n",
            "13/13 [==============================] - 0s 9ms/step - loss: 0.4172 - precision: 0.7638 - val_loss: 0.5295 - val_precision: 0.8621\n",
            "Epoch 20/20\n",
            "13/13 [==============================] - 0s 7ms/step - loss: 0.4543 - precision: 0.7299 - val_loss: 0.5873 - val_precision: 0.7895\n",
            "7/7 [==============================] - 0s 3ms/step - loss: 0.5756 - precision: 0.7778\n",
            "Epoch 1/20\n"
          ]
        },
        {
          "output_type": "stream",
          "name": "stderr",
          "text": [
            "/usr/local/lib/python3.7/dist-packages/sklearn/model_selection/_validation.py:774: UserWarning: Scoring failed. The score on this train-test partition for these parameters will be set to nan. Details: \n",
            "Traceback (most recent call last):\n",
            "  File \"/usr/local/lib/python3.7/dist-packages/sklearn/model_selection/_validation.py\", line 761, in _score\n",
            "    scores = scorer(estimator, X_test, y_test)\n",
            "  File \"/usr/local/lib/python3.7/dist-packages/sklearn/metrics/_scorer.py\", line 418, in _passthrough_scorer\n",
            "    return estimator.score(*args, **kwargs)\n",
            "  File \"/usr/local/lib/python3.7/dist-packages/keras/wrappers/scikit_learn.py\", line 323, in score\n",
            "    raise ValueError('The model is not configured to compute accuracy. '\n",
            "ValueError: The model is not configured to compute accuracy. You should pass `metrics=[\"accuracy\"]` to the `model.compile()` method.\n",
            "\n",
            "  UserWarning,\n"
          ]
        },
        {
          "output_type": "stream",
          "name": "stdout",
          "text": [
            "13/13 [==============================] - 1s 26ms/step - loss: 0.6788 - precision: 0.3766 - val_loss: 0.6537 - val_precision: 0.0000e+00\n",
            "Epoch 2/20\n",
            "13/13 [==============================] - 0s 6ms/step - loss: 0.6575 - precision: 0.0000e+00 - val_loss: 0.6270 - val_precision: 0.0000e+00\n",
            "Epoch 3/20\n",
            "13/13 [==============================] - 0s 5ms/step - loss: 0.6346 - precision: 0.5116 - val_loss: 0.5969 - val_precision: 0.6000\n",
            "Epoch 4/20\n",
            "13/13 [==============================] - 0s 8ms/step - loss: 0.6235 - precision: 0.5645 - val_loss: 0.5593 - val_precision: 0.5714\n",
            "Epoch 5/20\n",
            "13/13 [==============================] - 0s 6ms/step - loss: 0.5761 - precision: 0.6203 - val_loss: 0.5256 - val_precision: 0.5882\n",
            "Epoch 6/20\n",
            "13/13 [==============================] - 0s 6ms/step - loss: 0.5493 - precision: 0.6127 - val_loss: 0.5027 - val_precision: 0.6279\n",
            "Epoch 7/20\n",
            "13/13 [==============================] - 0s 7ms/step - loss: 0.5326 - precision: 0.6406 - val_loss: 0.4756 - val_precision: 0.6383\n",
            "Epoch 8/20\n",
            "13/13 [==============================] - 0s 6ms/step - loss: 0.5072 - precision: 0.6838 - val_loss: 0.4858 - val_precision: 0.6667\n",
            "Epoch 9/20\n",
            "13/13 [==============================] - 0s 7ms/step - loss: 0.4807 - precision: 0.7045 - val_loss: 0.4582 - val_precision: 0.6481\n",
            "Epoch 10/20\n",
            "13/13 [==============================] - 0s 5ms/step - loss: 0.4875 - precision: 0.6853 - val_loss: 0.4462 - val_precision: 0.6667\n",
            "Epoch 11/20\n",
            "13/13 [==============================] - 0s 7ms/step - loss: 0.4515 - precision: 0.7101 - val_loss: 0.4611 - val_precision: 0.8276\n",
            "Epoch 12/20\n",
            "13/13 [==============================] - 0s 6ms/step - loss: 0.4511 - precision: 0.6853 - val_loss: 0.4475 - val_precision: 0.6667\n",
            "Epoch 13/20\n",
            "13/13 [==============================] - 0s 7ms/step - loss: 0.4724 - precision: 0.6950 - val_loss: 0.4531 - val_precision: 0.7879\n",
            "Epoch 14/20\n",
            "13/13 [==============================] - 0s 6ms/step - loss: 0.4280 - precision: 0.7480 - val_loss: 0.4377 - val_precision: 0.6600\n",
            "Epoch 15/20\n",
            "13/13 [==============================] - 0s 7ms/step - loss: 0.4234 - precision: 0.7424 - val_loss: 0.4758 - val_precision: 0.6557\n",
            "Epoch 16/20\n",
            "13/13 [==============================] - 0s 7ms/step - loss: 0.4330 - precision: 0.7113 - val_loss: 0.4517 - val_precision: 0.7297\n",
            "Epoch 17/20\n",
            "13/13 [==============================] - 0s 8ms/step - loss: 0.4079 - precision: 0.7612 - val_loss: 0.4920 - val_precision: 0.8333\n",
            "Epoch 18/20\n",
            "13/13 [==============================] - 0s 7ms/step - loss: 0.3938 - precision: 0.7744 - val_loss: 0.4631 - val_precision: 0.7234\n",
            "Epoch 19/20\n",
            "13/13 [==============================] - 0s 5ms/step - loss: 0.3903 - precision: 0.7448 - val_loss: 0.4752 - val_precision: 0.7027\n",
            "Epoch 20/20\n",
            "13/13 [==============================] - 0s 9ms/step - loss: 0.3838 - precision: 0.7826 - val_loss: 0.4781 - val_precision: 0.7083\n",
            "7/7 [==============================] - 0s 3ms/step - loss: 0.5518 - precision: 0.6104\n",
            "Epoch 1/20\n"
          ]
        },
        {
          "output_type": "stream",
          "name": "stderr",
          "text": [
            "/usr/local/lib/python3.7/dist-packages/sklearn/model_selection/_validation.py:774: UserWarning: Scoring failed. The score on this train-test partition for these parameters will be set to nan. Details: \n",
            "Traceback (most recent call last):\n",
            "  File \"/usr/local/lib/python3.7/dist-packages/sklearn/model_selection/_validation.py\", line 761, in _score\n",
            "    scores = scorer(estimator, X_test, y_test)\n",
            "  File \"/usr/local/lib/python3.7/dist-packages/sklearn/metrics/_scorer.py\", line 418, in _passthrough_scorer\n",
            "    return estimator.score(*args, **kwargs)\n",
            "  File \"/usr/local/lib/python3.7/dist-packages/keras/wrappers/scikit_learn.py\", line 323, in score\n",
            "    raise ValueError('The model is not configured to compute accuracy. '\n",
            "ValueError: The model is not configured to compute accuracy. You should pass `metrics=[\"accuracy\"]` to the `model.compile()` method.\n",
            "\n",
            "  UserWarning,\n"
          ]
        },
        {
          "output_type": "stream",
          "name": "stdout",
          "text": [
            "13/13 [==============================] - 1s 28ms/step - loss: 0.6687 - precision: 0.5000 - val_loss: 0.6475 - val_precision: 0.0000e+00\n",
            "Epoch 2/20\n",
            "13/13 [==============================] - 0s 5ms/step - loss: 0.6468 - precision: 0.0000e+00 - val_loss: 0.6232 - val_precision: 0.0000e+00\n",
            "Epoch 3/20\n",
            "13/13 [==============================] - 0s 6ms/step - loss: 0.6300 - precision: 0.5185 - val_loss: 0.5962 - val_precision: 1.0000\n",
            "Epoch 4/20\n",
            "13/13 [==============================] - 0s 5ms/step - loss: 0.6238 - precision: 0.6190 - val_loss: 0.5735 - val_precision: 0.5870\n",
            "Epoch 5/20\n",
            "13/13 [==============================] - 0s 6ms/step - loss: 0.6046 - precision: 0.5810 - val_loss: 0.5584 - val_precision: 0.6667\n",
            "Epoch 6/20\n",
            "13/13 [==============================] - 0s 7ms/step - loss: 0.5725 - precision: 0.6707 - val_loss: 0.5214 - val_precision: 0.7308\n",
            "Epoch 7/20\n",
            "13/13 [==============================] - 0s 8ms/step - loss: 0.5425 - precision: 0.6818 - val_loss: 0.4843 - val_precision: 0.7273\n",
            "Epoch 8/20\n",
            "13/13 [==============================] - 0s 7ms/step - loss: 0.5163 - precision: 0.6900 - val_loss: 0.4942 - val_precision: 0.8077\n",
            "Epoch 9/20\n",
            "13/13 [==============================] - 0s 7ms/step - loss: 0.5051 - precision: 0.6807 - val_loss: 0.4516 - val_precision: 0.7692\n",
            "Epoch 10/20\n",
            "13/13 [==============================] - 0s 5ms/step - loss: 0.4919 - precision: 0.6748 - val_loss: 0.6100 - val_precision: 0.9333\n",
            "Epoch 11/20\n",
            "13/13 [==============================] - 0s 5ms/step - loss: 0.4958 - precision: 0.7193 - val_loss: 0.4936 - val_precision: 0.7857\n",
            "Epoch 12/20\n",
            "13/13 [==============================] - 0s 7ms/step - loss: 0.4719 - precision: 0.7177 - val_loss: 0.4604 - val_precision: 0.7576\n",
            "Epoch 13/20\n",
            "13/13 [==============================] - 0s 7ms/step - loss: 0.4572 - precision: 0.7570 - val_loss: 0.4457 - val_precision: 0.7436\n",
            "Epoch 14/20\n",
            "13/13 [==============================] - 0s 6ms/step - loss: 0.4810 - precision: 0.6822 - val_loss: 0.4431 - val_precision: 0.7561\n",
            "Epoch 15/20\n",
            "13/13 [==============================] - 0s 5ms/step - loss: 0.4464 - precision: 0.7593 - val_loss: 0.4516 - val_precision: 0.7436\n",
            "Epoch 16/20\n",
            "13/13 [==============================] - 0s 6ms/step - loss: 0.4517 - precision: 0.7059 - val_loss: 0.4853 - val_precision: 0.8000\n",
            "Epoch 17/20\n",
            "13/13 [==============================] - 0s 6ms/step - loss: 0.4426 - precision: 0.7544 - val_loss: 0.4497 - val_precision: 0.7568\n",
            "Epoch 18/20\n",
            "13/13 [==============================] - 0s 6ms/step - loss: 0.4362 - precision: 0.7333 - val_loss: 0.4845 - val_precision: 0.7742\n",
            "Epoch 19/20\n",
            "13/13 [==============================] - 0s 6ms/step - loss: 0.4467 - precision: 0.7099 - val_loss: 0.4672 - val_precision: 0.7353\n",
            "Epoch 20/20\n",
            "13/13 [==============================] - 0s 7ms/step - loss: 0.4306 - precision: 0.7436 - val_loss: 0.4785 - val_precision: 0.7500\n",
            "7/7 [==============================] - 0s 3ms/step - loss: 0.4727 - precision: 0.7636\n",
            "Epoch 1/20\n"
          ]
        },
        {
          "output_type": "stream",
          "name": "stderr",
          "text": [
            "/usr/local/lib/python3.7/dist-packages/sklearn/model_selection/_validation.py:774: UserWarning: Scoring failed. The score on this train-test partition for these parameters will be set to nan. Details: \n",
            "Traceback (most recent call last):\n",
            "  File \"/usr/local/lib/python3.7/dist-packages/sklearn/model_selection/_validation.py\", line 761, in _score\n",
            "    scores = scorer(estimator, X_test, y_test)\n",
            "  File \"/usr/local/lib/python3.7/dist-packages/sklearn/metrics/_scorer.py\", line 418, in _passthrough_scorer\n",
            "    return estimator.score(*args, **kwargs)\n",
            "  File \"/usr/local/lib/python3.7/dist-packages/keras/wrappers/scikit_learn.py\", line 323, in score\n",
            "    raise ValueError('The model is not configured to compute accuracy. '\n",
            "ValueError: The model is not configured to compute accuracy. You should pass `metrics=[\"accuracy\"]` to the `model.compile()` method.\n",
            "\n",
            "  UserWarning,\n"
          ]
        },
        {
          "output_type": "stream",
          "name": "stdout",
          "text": [
            "13/13 [==============================] - 1s 27ms/step - loss: 0.6770 - precision: 0.3448 - val_loss: 0.6539 - val_precision: 0.0000e+00\n",
            "Epoch 2/20\n",
            "13/13 [==============================] - 0s 5ms/step - loss: 0.6490 - precision: 0.0000e+00 - val_loss: 0.6305 - val_precision: 0.0000e+00\n",
            "Epoch 3/20\n",
            "13/13 [==============================] - 0s 5ms/step - loss: 0.6219 - precision: 1.0000 - val_loss: 0.5945 - val_precision: 0.5833\n",
            "Epoch 4/20\n",
            "13/13 [==============================] - 0s 6ms/step - loss: 0.5961 - precision: 0.6494 - val_loss: 0.5707 - val_precision: 0.6667\n",
            "Epoch 5/20\n",
            "13/13 [==============================] - 0s 7ms/step - loss: 0.5609 - precision: 0.6330 - val_loss: 0.5485 - val_precision: 0.5926\n",
            "Epoch 6/20\n",
            "13/13 [==============================] - 0s 6ms/step - loss: 0.5445 - precision: 0.6915 - val_loss: 0.5225 - val_precision: 0.6111\n",
            "Epoch 7/20\n",
            "13/13 [==============================] - 0s 6ms/step - loss: 0.5231 - precision: 0.6429 - val_loss: 0.5382 - val_precision: 0.6429\n",
            "Epoch 8/20\n",
            "13/13 [==============================] - 0s 6ms/step - loss: 0.5078 - precision: 0.6786 - val_loss: 0.5367 - val_precision: 0.7500\n",
            "Epoch 9/20\n",
            "13/13 [==============================] - 0s 6ms/step - loss: 0.4930 - precision: 0.7889 - val_loss: 0.4914 - val_precision: 0.6190\n",
            "Epoch 10/20\n",
            "13/13 [==============================] - 0s 7ms/step - loss: 0.4889 - precision: 0.7290 - val_loss: 0.4977 - val_precision: 0.7667\n",
            "Epoch 11/20\n",
            "13/13 [==============================] - 0s 7ms/step - loss: 0.4857 - precision: 0.7273 - val_loss: 0.5147 - val_precision: 0.8077\n",
            "Epoch 12/20\n",
            "13/13 [==============================] - 0s 7ms/step - loss: 0.4646 - precision: 0.7619 - val_loss: 0.4812 - val_precision: 0.7632\n",
            "Epoch 13/20\n",
            "13/13 [==============================] - 0s 5ms/step - loss: 0.4537 - precision: 0.7778 - val_loss: 0.4859 - val_precision: 0.7647\n",
            "Epoch 14/20\n",
            "13/13 [==============================] - 0s 6ms/step - loss: 0.4476 - precision: 0.7850 - val_loss: 0.4804 - val_precision: 0.7436\n",
            "Epoch 15/20\n",
            "13/13 [==============================] - 0s 6ms/step - loss: 0.4393 - precision: 0.7632 - val_loss: 0.4755 - val_precision: 0.7317\n",
            "Epoch 16/20\n",
            "13/13 [==============================] - 0s 6ms/step - loss: 0.4332 - precision: 0.7863 - val_loss: 0.4719 - val_precision: 0.6667\n",
            "Epoch 17/20\n",
            "13/13 [==============================] - 0s 6ms/step - loss: 0.4417 - precision: 0.7458 - val_loss: 0.5012 - val_precision: 0.6379\n",
            "Epoch 18/20\n",
            "13/13 [==============================] - 0s 6ms/step - loss: 0.4676 - precision: 0.7266 - val_loss: 0.4972 - val_precision: 0.6429\n",
            "Epoch 19/20\n",
            "13/13 [==============================] - 0s 6ms/step - loss: 0.4226 - precision: 0.7788 - val_loss: 0.4998 - val_precision: 0.8056\n",
            "Epoch 20/20\n",
            "13/13 [==============================] - 0s 6ms/step - loss: 0.4148 - precision: 0.7692 - val_loss: 0.4972 - val_precision: 0.7045\n",
            "7/7 [==============================] - 0s 3ms/step - loss: 0.4889 - precision: 0.6364\n",
            "Epoch 1/20\n"
          ]
        },
        {
          "output_type": "stream",
          "name": "stderr",
          "text": [
            "/usr/local/lib/python3.7/dist-packages/sklearn/model_selection/_validation.py:774: UserWarning: Scoring failed. The score on this train-test partition for these parameters will be set to nan. Details: \n",
            "Traceback (most recent call last):\n",
            "  File \"/usr/local/lib/python3.7/dist-packages/sklearn/model_selection/_validation.py\", line 761, in _score\n",
            "    scores = scorer(estimator, X_test, y_test)\n",
            "  File \"/usr/local/lib/python3.7/dist-packages/sklearn/metrics/_scorer.py\", line 418, in _passthrough_scorer\n",
            "    return estimator.score(*args, **kwargs)\n",
            "  File \"/usr/local/lib/python3.7/dist-packages/keras/wrappers/scikit_learn.py\", line 323, in score\n",
            "    raise ValueError('The model is not configured to compute accuracy. '\n",
            "ValueError: The model is not configured to compute accuracy. You should pass `metrics=[\"accuracy\"]` to the `model.compile()` method.\n",
            "\n",
            "  UserWarning,\n"
          ]
        },
        {
          "output_type": "stream",
          "name": "stdout",
          "text": [
            "13/13 [==============================] - 1s 25ms/step - loss: 0.6697 - precision: 0.4500 - val_loss: 0.6412 - val_precision: 0.0000e+00\n",
            "Epoch 2/20\n",
            "13/13 [==============================] - 0s 5ms/step - loss: 0.6559 - precision: 0.0000e+00 - val_loss: 0.6225 - val_precision: 1.0000\n",
            "Epoch 3/20\n",
            "13/13 [==============================] - 0s 5ms/step - loss: 0.6425 - precision: 0.5000 - val_loss: 0.5976 - val_precision: 0.6667\n",
            "Epoch 4/20\n",
            "13/13 [==============================] - 0s 6ms/step - loss: 0.6199 - precision: 0.4545 - val_loss: 0.5723 - val_precision: 0.7059\n",
            "Epoch 5/20\n",
            "13/13 [==============================] - 0s 7ms/step - loss: 0.5954 - precision: 0.5909 - val_loss: 0.5534 - val_precision: 0.6667\n",
            "Epoch 6/20\n",
            "13/13 [==============================] - 0s 6ms/step - loss: 0.5770 - precision: 0.6465 - val_loss: 0.5290 - val_precision: 0.7143\n",
            "Epoch 7/20\n",
            "13/13 [==============================] - 0s 6ms/step - loss: 0.5657 - precision: 0.6176 - val_loss: 0.5119 - val_precision: 0.6591\n",
            "Epoch 8/20\n",
            "13/13 [==============================] - 0s 6ms/step - loss: 0.5549 - precision: 0.6765 - val_loss: 0.5020 - val_precision: 0.7059\n",
            "Epoch 9/20\n",
            "13/13 [==============================] - 0s 7ms/step - loss: 0.5314 - precision: 0.6549 - val_loss: 0.5332 - val_precision: 0.7778\n",
            "Epoch 10/20\n",
            "13/13 [==============================] - 0s 6ms/step - loss: 0.5363 - precision: 0.6809 - val_loss: 0.4858 - val_precision: 0.6750\n",
            "Epoch 11/20\n",
            "13/13 [==============================] - 0s 6ms/step - loss: 0.5026 - precision: 0.6992 - val_loss: 0.5033 - val_precision: 0.7917\n",
            "Epoch 12/20\n",
            "13/13 [==============================] - 0s 5ms/step - loss: 0.4908 - precision: 0.7596 - val_loss: 0.4681 - val_precision: 0.7179\n",
            "Epoch 13/20\n",
            "13/13 [==============================] - 0s 6ms/step - loss: 0.4868 - precision: 0.7054 - val_loss: 0.4867 - val_precision: 0.7586\n",
            "Epoch 14/20\n",
            "13/13 [==============================] - 0s 6ms/step - loss: 0.4781 - precision: 0.7563 - val_loss: 0.4843 - val_precision: 0.8214\n",
            "Epoch 15/20\n",
            "13/13 [==============================] - 0s 5ms/step - loss: 0.4605 - precision: 0.7500 - val_loss: 0.4697 - val_precision: 0.7714\n",
            "Epoch 16/20\n",
            "13/13 [==============================] - 0s 5ms/step - loss: 0.4557 - precision: 0.7627 - val_loss: 0.4801 - val_precision: 0.8000\n",
            "Epoch 17/20\n",
            "13/13 [==============================] - 0s 5ms/step - loss: 0.4443 - precision: 0.7440 - val_loss: 0.4628 - val_precision: 0.8000\n",
            "Epoch 18/20\n",
            "13/13 [==============================] - 0s 5ms/step - loss: 0.4461 - precision: 0.7265 - val_loss: 0.4665 - val_precision: 0.8000\n",
            "Epoch 19/20\n",
            "13/13 [==============================] - 0s 6ms/step - loss: 0.4669 - precision: 0.7302 - val_loss: 0.5085 - val_precision: 0.8750\n",
            "Epoch 20/20\n",
            "13/13 [==============================] - 0s 6ms/step - loss: 0.4429 - precision: 0.7214 - val_loss: 0.4799 - val_precision: 0.8065\n",
            "7/7 [==============================] - 0s 3ms/step - loss: 0.5149 - precision: 0.7143\n",
            "Epoch 1/20\n"
          ]
        },
        {
          "output_type": "stream",
          "name": "stderr",
          "text": [
            "/usr/local/lib/python3.7/dist-packages/sklearn/model_selection/_validation.py:774: UserWarning: Scoring failed. The score on this train-test partition for these parameters will be set to nan. Details: \n",
            "Traceback (most recent call last):\n",
            "  File \"/usr/local/lib/python3.7/dist-packages/sklearn/model_selection/_validation.py\", line 761, in _score\n",
            "    scores = scorer(estimator, X_test, y_test)\n",
            "  File \"/usr/local/lib/python3.7/dist-packages/sklearn/metrics/_scorer.py\", line 418, in _passthrough_scorer\n",
            "    return estimator.score(*args, **kwargs)\n",
            "  File \"/usr/local/lib/python3.7/dist-packages/keras/wrappers/scikit_learn.py\", line 323, in score\n",
            "    raise ValueError('The model is not configured to compute accuracy. '\n",
            "ValueError: The model is not configured to compute accuracy. You should pass `metrics=[\"accuracy\"]` to the `model.compile()` method.\n",
            "\n",
            "  UserWarning,\n"
          ]
        },
        {
          "output_type": "stream",
          "name": "stdout",
          "text": [
            "13/13 [==============================] - 1s 25ms/step - loss: 0.6732 - precision: 0.2500 - val_loss: 0.6476 - val_precision: 0.0000e+00\n",
            "Epoch 2/20\n",
            "13/13 [==============================] - 0s 5ms/step - loss: 0.6507 - precision: 0.0000e+00 - val_loss: 0.6239 - val_precision: 0.0000e+00\n",
            "Epoch 3/20\n",
            "13/13 [==============================] - 0s 6ms/step - loss: 0.6335 - precision: 0.0000e+00 - val_loss: 0.5975 - val_precision: 1.0000\n",
            "Epoch 4/20\n",
            "13/13 [==============================] - 0s 6ms/step - loss: 0.6172 - precision: 0.6154 - val_loss: 0.5736 - val_precision: 0.7273\n",
            "Epoch 5/20\n",
            "13/13 [==============================] - 0s 7ms/step - loss: 0.5951 - precision: 0.7273 - val_loss: 0.5526 - val_precision: 0.6923\n",
            "Epoch 6/20\n",
            "13/13 [==============================] - 0s 5ms/step - loss: 0.5879 - precision: 0.6618 - val_loss: 0.5419 - val_precision: 0.6667\n",
            "Epoch 7/20\n",
            "13/13 [==============================] - 0s 5ms/step - loss: 0.5646 - precision: 0.6706 - val_loss: 0.5131 - val_precision: 0.7037\n",
            "Epoch 8/20\n",
            "13/13 [==============================] - 0s 5ms/step - loss: 0.5517 - precision: 0.7500 - val_loss: 0.4994 - val_precision: 0.7037\n",
            "Epoch 9/20\n",
            "13/13 [==============================] - 0s 5ms/step - loss: 0.5386 - precision: 0.7100 - val_loss: 0.5233 - val_precision: 0.8095\n",
            "Epoch 10/20\n",
            "13/13 [==============================] - 0s 7ms/step - loss: 0.5273 - precision: 0.6698 - val_loss: 0.4951 - val_precision: 0.8462\n",
            "Epoch 11/20\n",
            "13/13 [==============================] - 0s 6ms/step - loss: 0.5157 - precision: 0.7303 - val_loss: 0.4610 - val_precision: 0.7576\n",
            "Epoch 12/20\n",
            "13/13 [==============================] - 0s 5ms/step - loss: 0.5004 - precision: 0.7200 - val_loss: 0.4935 - val_precision: 0.8462\n",
            "Epoch 13/20\n",
            "13/13 [==============================] - 0s 5ms/step - loss: 0.5045 - precision: 0.6452 - val_loss: 0.5621 - val_precision: 0.8667\n",
            "Epoch 14/20\n",
            "13/13 [==============================] - 0s 6ms/step - loss: 0.5024 - precision: 0.6947 - val_loss: 0.4541 - val_precision: 0.7667\n",
            "Epoch 15/20\n",
            "13/13 [==============================] - 0s 6ms/step - loss: 0.4800 - precision: 0.7849 - val_loss: 0.4511 - val_precision: 0.7500\n",
            "Epoch 16/20\n",
            "13/13 [==============================] - 0s 5ms/step - loss: 0.4775 - precision: 0.6942 - val_loss: 0.4793 - val_precision: 0.8148\n",
            "Epoch 17/20\n",
            "13/13 [==============================] - 0s 5ms/step - loss: 0.4699 - precision: 0.7290 - val_loss: 0.4855 - val_precision: 0.8148\n",
            "Epoch 18/20\n",
            "13/13 [==============================] - 0s 6ms/step - loss: 0.4671 - precision: 0.7647 - val_loss: 0.4387 - val_precision: 0.7436\n",
            "Epoch 19/20\n",
            "13/13 [==============================] - 0s 5ms/step - loss: 0.4677 - precision: 0.7843 - val_loss: 0.4448 - val_precision: 0.7500\n",
            "Epoch 20/20\n",
            "13/13 [==============================] - 0s 7ms/step - loss: 0.4591 - precision: 0.7257 - val_loss: 0.4498 - val_precision: 0.7812\n",
            "7/7 [==============================] - 1s 3ms/step - loss: 0.4815 - precision: 0.7627\n",
            "Epoch 1/20\n"
          ]
        },
        {
          "output_type": "stream",
          "name": "stderr",
          "text": [
            "/usr/local/lib/python3.7/dist-packages/sklearn/model_selection/_validation.py:774: UserWarning: Scoring failed. The score on this train-test partition for these parameters will be set to nan. Details: \n",
            "Traceback (most recent call last):\n",
            "  File \"/usr/local/lib/python3.7/dist-packages/sklearn/model_selection/_validation.py\", line 761, in _score\n",
            "    scores = scorer(estimator, X_test, y_test)\n",
            "  File \"/usr/local/lib/python3.7/dist-packages/sklearn/metrics/_scorer.py\", line 418, in _passthrough_scorer\n",
            "    return estimator.score(*args, **kwargs)\n",
            "  File \"/usr/local/lib/python3.7/dist-packages/keras/wrappers/scikit_learn.py\", line 323, in score\n",
            "    raise ValueError('The model is not configured to compute accuracy. '\n",
            "ValueError: The model is not configured to compute accuracy. You should pass `metrics=[\"accuracy\"]` to the `model.compile()` method.\n",
            "\n",
            "  UserWarning,\n"
          ]
        },
        {
          "output_type": "stream",
          "name": "stdout",
          "text": [
            "13/13 [==============================] - 1s 26ms/step - loss: 0.6603 - precision: 0.4062 - val_loss: 0.6401 - val_precision: 0.0000e+00\n",
            "Epoch 2/20\n",
            "13/13 [==============================] - 0s 5ms/step - loss: 0.6377 - precision: 0.6000 - val_loss: 0.6176 - val_precision: 0.7500\n",
            "Epoch 3/20\n",
            "13/13 [==============================] - 0s 8ms/step - loss: 0.6149 - precision: 0.6190 - val_loss: 0.5995 - val_precision: 0.7778\n",
            "Epoch 4/20\n",
            "13/13 [==============================] - 0s 5ms/step - loss: 0.5910 - precision: 0.6774 - val_loss: 0.5816 - val_precision: 0.5610\n",
            "Epoch 5/20\n",
            "13/13 [==============================] - 0s 7ms/step - loss: 0.5755 - precision: 0.6506 - val_loss: 0.5698 - val_precision: 0.6087\n",
            "Epoch 6/20\n",
            "13/13 [==============================] - 0s 5ms/step - loss: 0.5578 - precision: 0.6421 - val_loss: 0.5556 - val_precision: 0.5833\n",
            "Epoch 7/20\n",
            "13/13 [==============================] - 0s 6ms/step - loss: 0.5495 - precision: 0.6600 - val_loss: 0.5502 - val_precision: 0.6207\n",
            "Epoch 8/20\n",
            "13/13 [==============================] - 0s 6ms/step - loss: 0.5348 - precision: 0.6809 - val_loss: 0.5354 - val_precision: 0.6316\n",
            "Epoch 9/20\n",
            "13/13 [==============================] - 0s 6ms/step - loss: 0.5313 - precision: 0.6832 - val_loss: 0.5318 - val_precision: 0.6667\n",
            "Epoch 10/20\n",
            "13/13 [==============================] - 0s 6ms/step - loss: 0.5190 - precision: 0.7234 - val_loss: 0.5212 - val_precision: 0.6364\n",
            "Epoch 11/20\n",
            "13/13 [==============================] - 0s 6ms/step - loss: 0.5128 - precision: 0.6557 - val_loss: 0.5554 - val_precision: 0.7500\n",
            "Epoch 12/20\n",
            "13/13 [==============================] - 0s 6ms/step - loss: 0.5062 - precision: 0.7738 - val_loss: 0.5020 - val_precision: 0.6383\n",
            "Epoch 13/20\n",
            "13/13 [==============================] - 0s 5ms/step - loss: 0.4975 - precision: 0.7476 - val_loss: 0.4954 - val_precision: 0.7188\n",
            "Epoch 14/20\n",
            "13/13 [==============================] - 0s 6ms/step - loss: 0.4861 - precision: 0.7455 - val_loss: 0.5144 - val_precision: 0.7826\n",
            "Epoch 15/20\n",
            "13/13 [==============================] - 0s 6ms/step - loss: 0.4933 - precision: 0.6838 - val_loss: 0.5055 - val_precision: 0.7857\n",
            "Epoch 16/20\n",
            "13/13 [==============================] - 0s 7ms/step - loss: 0.4790 - precision: 0.8090 - val_loss: 0.4842 - val_precision: 0.7812\n",
            "Epoch 17/20\n",
            "13/13 [==============================] - 0s 5ms/step - loss: 0.4729 - precision: 0.7800 - val_loss: 0.4806 - val_precision: 0.7812\n",
            "Epoch 18/20\n",
            "13/13 [==============================] - 0s 7ms/step - loss: 0.4684 - precision: 0.7670 - val_loss: 0.4781 - val_precision: 0.7500\n",
            "Epoch 19/20\n",
            "13/13 [==============================] - 0s 5ms/step - loss: 0.4699 - precision: 0.7692 - val_loss: 0.4735 - val_precision: 0.7500\n",
            "Epoch 20/20\n",
            "13/13 [==============================] - 0s 5ms/step - loss: 0.4529 - precision: 0.7685 - val_loss: 0.4963 - val_precision: 0.8077\n",
            "7/7 [==============================] - 0s 3ms/step - loss: 0.5066 - precision: 0.7381\n",
            "Epoch 1/20\n"
          ]
        },
        {
          "output_type": "stream",
          "name": "stderr",
          "text": [
            "/usr/local/lib/python3.7/dist-packages/sklearn/model_selection/_validation.py:774: UserWarning: Scoring failed. The score on this train-test partition for these parameters will be set to nan. Details: \n",
            "Traceback (most recent call last):\n",
            "  File \"/usr/local/lib/python3.7/dist-packages/sklearn/model_selection/_validation.py\", line 761, in _score\n",
            "    scores = scorer(estimator, X_test, y_test)\n",
            "  File \"/usr/local/lib/python3.7/dist-packages/sklearn/metrics/_scorer.py\", line 418, in _passthrough_scorer\n",
            "    return estimator.score(*args, **kwargs)\n",
            "  File \"/usr/local/lib/python3.7/dist-packages/keras/wrappers/scikit_learn.py\", line 323, in score\n",
            "    raise ValueError('The model is not configured to compute accuracy. '\n",
            "ValueError: The model is not configured to compute accuracy. You should pass `metrics=[\"accuracy\"]` to the `model.compile()` method.\n",
            "\n",
            "  UserWarning,\n"
          ]
        },
        {
          "output_type": "stream",
          "name": "stdout",
          "text": [
            "13/13 [==============================] - 1s 25ms/step - loss: 0.6755 - precision: 0.4198 - val_loss: 0.6415 - val_precision: 0.0000e+00\n",
            "Epoch 2/20\n",
            "13/13 [==============================] - 0s 6ms/step - loss: 0.6444 - precision: 0.7500 - val_loss: 0.6099 - val_precision: 0.6923\n",
            "Epoch 3/20\n",
            "13/13 [==============================] - 0s 8ms/step - loss: 0.6182 - precision: 0.5357 - val_loss: 0.5814 - val_precision: 0.6364\n",
            "Epoch 4/20\n",
            "13/13 [==============================] - 0s 7ms/step - loss: 0.5932 - precision: 0.5507 - val_loss: 0.5499 - val_precision: 0.6818\n",
            "Epoch 5/20\n",
            "13/13 [==============================] - 0s 6ms/step - loss: 0.5746 - precision: 0.6058 - val_loss: 0.5524 - val_precision: 0.7333\n",
            "Epoch 6/20\n",
            "13/13 [==============================] - 0s 6ms/step - loss: 0.5593 - precision: 0.6071 - val_loss: 0.5031 - val_precision: 0.6500\n",
            "Epoch 7/20\n",
            "13/13 [==============================] - 0s 6ms/step - loss: 0.5425 - precision: 0.6442 - val_loss: 0.4922 - val_precision: 0.6571\n",
            "Epoch 8/20\n",
            "13/13 [==============================] - 0s 6ms/step - loss: 0.5264 - precision: 0.6694 - val_loss: 0.4963 - val_precision: 0.8000\n",
            "Epoch 9/20\n",
            "13/13 [==============================] - 0s 7ms/step - loss: 0.5046 - precision: 0.6857 - val_loss: 0.5203 - val_precision: 0.8182\n",
            "Epoch 10/20\n",
            "13/13 [==============================] - 0s 7ms/step - loss: 0.4880 - precision: 0.7281 - val_loss: 0.4612 - val_precision: 0.6531\n",
            "Epoch 11/20\n",
            "13/13 [==============================] - 0s 6ms/step - loss: 0.4719 - precision: 0.7092 - val_loss: 0.5282 - val_precision: 0.8500\n",
            "Epoch 12/20\n",
            "13/13 [==============================] - 0s 7ms/step - loss: 0.4819 - precision: 0.7188 - val_loss: 0.4901 - val_precision: 0.8333\n",
            "Epoch 13/20\n",
            "13/13 [==============================] - 0s 6ms/step - loss: 0.4582 - precision: 0.7328 - val_loss: 0.4700 - val_precision: 0.8214\n",
            "Epoch 14/20\n",
            "13/13 [==============================] - 0s 6ms/step - loss: 0.4509 - precision: 0.7652 - val_loss: 0.5102 - val_precision: 0.8636\n",
            "Epoch 15/20\n",
            "13/13 [==============================] - 0s 6ms/step - loss: 0.4446 - precision: 0.7464 - val_loss: 0.4672 - val_precision: 0.8065\n",
            "Epoch 16/20\n",
            "13/13 [==============================] - 0s 7ms/step - loss: 0.4347 - precision: 0.7750 - val_loss: 0.4445 - val_precision: 0.7714\n",
            "Epoch 17/20\n",
            "13/13 [==============================] - 0s 6ms/step - loss: 0.4283 - precision: 0.7724 - val_loss: 0.4531 - val_precision: 0.7812\n",
            "Epoch 18/20\n",
            "13/13 [==============================] - 0s 6ms/step - loss: 0.4287 - precision: 0.7561 - val_loss: 0.4515 - val_precision: 0.7778\n",
            "Epoch 19/20\n",
            "13/13 [==============================] - 0s 6ms/step - loss: 0.4152 - precision: 0.7615 - val_loss: 0.4533 - val_precision: 0.7647\n",
            "Epoch 20/20\n",
            "13/13 [==============================] - 0s 6ms/step - loss: 0.4213 - precision: 0.7557 - val_loss: 0.4646 - val_precision: 0.8125\n",
            "7/7 [==============================] - 0s 3ms/step - loss: 0.5255 - precision: 0.6667\n",
            "Epoch 1/20\n"
          ]
        },
        {
          "output_type": "stream",
          "name": "stderr",
          "text": [
            "/usr/local/lib/python3.7/dist-packages/sklearn/model_selection/_validation.py:774: UserWarning: Scoring failed. The score on this train-test partition for these parameters will be set to nan. Details: \n",
            "Traceback (most recent call last):\n",
            "  File \"/usr/local/lib/python3.7/dist-packages/sklearn/model_selection/_validation.py\", line 761, in _score\n",
            "    scores = scorer(estimator, X_test, y_test)\n",
            "  File \"/usr/local/lib/python3.7/dist-packages/sklearn/metrics/_scorer.py\", line 418, in _passthrough_scorer\n",
            "    return estimator.score(*args, **kwargs)\n",
            "  File \"/usr/local/lib/python3.7/dist-packages/keras/wrappers/scikit_learn.py\", line 323, in score\n",
            "    raise ValueError('The model is not configured to compute accuracy. '\n",
            "ValueError: The model is not configured to compute accuracy. You should pass `metrics=[\"accuracy\"]` to the `model.compile()` method.\n",
            "\n",
            "  UserWarning,\n"
          ]
        },
        {
          "output_type": "stream",
          "name": "stdout",
          "text": [
            "13/13 [==============================] - 1s 27ms/step - loss: 0.6714 - precision: 0.4000 - val_loss: 0.6432 - val_precision: 0.0000e+00\n",
            "Epoch 2/20\n",
            "13/13 [==============================] - 0s 6ms/step - loss: 0.6430 - precision: 0.0000e+00 - val_loss: 0.6170 - val_precision: 1.0000\n",
            "Epoch 3/20\n",
            "13/13 [==============================] - 0s 6ms/step - loss: 0.6272 - precision: 0.6000 - val_loss: 0.5911 - val_precision: 1.0000\n",
            "Epoch 4/20\n",
            "13/13 [==============================] - 0s 7ms/step - loss: 0.6086 - precision: 0.5217 - val_loss: 0.5548 - val_precision: 0.6774\n",
            "Epoch 5/20\n",
            "13/13 [==============================] - 0s 7ms/step - loss: 0.5887 - precision: 0.5635 - val_loss: 0.5636 - val_precision: 1.0000\n",
            "Epoch 6/20\n",
            "13/13 [==============================] - 0s 7ms/step - loss: 0.5832 - precision: 0.6441 - val_loss: 0.5106 - val_precision: 0.6757\n",
            "Epoch 7/20\n",
            "13/13 [==============================] - 0s 6ms/step - loss: 0.5622 - precision: 0.6566 - val_loss: 0.5165 - val_precision: 0.8571\n",
            "Epoch 8/20\n",
            "13/13 [==============================] - 0s 5ms/step - loss: 0.5462 - precision: 0.6355 - val_loss: 0.4971 - val_precision: 0.7600\n",
            "Epoch 9/20\n",
            "13/13 [==============================] - 0s 6ms/step - loss: 0.5278 - precision: 0.7333 - val_loss: 0.4755 - val_precision: 0.7742\n",
            "Epoch 10/20\n",
            "13/13 [==============================] - 0s 7ms/step - loss: 0.5171 - precision: 0.7103 - val_loss: 0.4656 - val_precision: 0.7419\n",
            "Epoch 11/20\n",
            "13/13 [==============================] - 0s 6ms/step - loss: 0.5109 - precision: 0.6931 - val_loss: 0.4621 - val_precision: 0.7419\n",
            "Epoch 12/20\n",
            "13/13 [==============================] - 0s 6ms/step - loss: 0.4879 - precision: 0.6897 - val_loss: 0.4869 - val_precision: 0.8077\n",
            "Epoch 13/20\n",
            "13/13 [==============================] - 0s 7ms/step - loss: 0.4786 - precision: 0.7660 - val_loss: 0.4623 - val_precision: 0.7333\n",
            "Epoch 14/20\n",
            "13/13 [==============================] - 0s 7ms/step - loss: 0.4898 - precision: 0.6754 - val_loss: 0.4970 - val_precision: 0.8000\n",
            "Epoch 15/20\n",
            "13/13 [==============================] - 0s 7ms/step - loss: 0.4694 - precision: 0.7364 - val_loss: 0.4695 - val_precision: 0.7586\n",
            "Epoch 16/20\n",
            "13/13 [==============================] - 0s 7ms/step - loss: 0.4668 - precision: 0.6866 - val_loss: 0.4737 - val_precision: 0.7586\n",
            "Epoch 17/20\n",
            "13/13 [==============================] - 0s 7ms/step - loss: 0.4576 - precision: 0.7196 - val_loss: 0.4815 - val_precision: 0.8214\n",
            "Epoch 18/20\n",
            "13/13 [==============================] - 0s 7ms/step - loss: 0.4515 - precision: 0.7311 - val_loss: 0.5530 - val_precision: 0.8696\n",
            "Epoch 19/20\n",
            "13/13 [==============================] - 0s 6ms/step - loss: 0.4652 - precision: 0.7431 - val_loss: 0.4887 - val_precision: 0.8214\n",
            "Epoch 20/20\n",
            "13/13 [==============================] - 0s 6ms/step - loss: 0.4521 - precision: 0.7456 - val_loss: 0.4997 - val_precision: 0.8214\n",
            "7/7 [==============================] - 0s 5ms/step - loss: 0.4886 - precision: 0.8478\n",
            "Epoch 1/20\n"
          ]
        },
        {
          "output_type": "stream",
          "name": "stderr",
          "text": [
            "/usr/local/lib/python3.7/dist-packages/sklearn/model_selection/_validation.py:774: UserWarning: Scoring failed. The score on this train-test partition for these parameters will be set to nan. Details: \n",
            "Traceback (most recent call last):\n",
            "  File \"/usr/local/lib/python3.7/dist-packages/sklearn/model_selection/_validation.py\", line 761, in _score\n",
            "    scores = scorer(estimator, X_test, y_test)\n",
            "  File \"/usr/local/lib/python3.7/dist-packages/sklearn/metrics/_scorer.py\", line 418, in _passthrough_scorer\n",
            "    return estimator.score(*args, **kwargs)\n",
            "  File \"/usr/local/lib/python3.7/dist-packages/keras/wrappers/scikit_learn.py\", line 323, in score\n",
            "    raise ValueError('The model is not configured to compute accuracy. '\n",
            "ValueError: The model is not configured to compute accuracy. You should pass `metrics=[\"accuracy\"]` to the `model.compile()` method.\n",
            "\n",
            "  UserWarning,\n"
          ]
        },
        {
          "output_type": "stream",
          "name": "stdout",
          "text": [
            "13/13 [==============================] - 1s 30ms/step - loss: 0.6708 - precision: 0.2812 - val_loss: 0.6426 - val_precision: 0.0000e+00\n",
            "Epoch 2/20\n",
            "13/13 [==============================] - 0s 10ms/step - loss: 0.6483 - precision: 0.0000e+00 - val_loss: 0.6253 - val_precision: 0.0000e+00\n",
            "Epoch 3/20\n",
            "13/13 [==============================] - 0s 10ms/step - loss: 0.6185 - precision: 0.6579 - val_loss: 0.5966 - val_precision: 0.7000\n",
            "Epoch 4/20\n",
            "13/13 [==============================] - 0s 11ms/step - loss: 0.5915 - precision: 0.6538 - val_loss: 0.5739 - val_precision: 0.6316\n",
            "Epoch 5/20\n",
            "13/13 [==============================] - 0s 10ms/step - loss: 0.5678 - precision: 0.6064 - val_loss: 0.5548 - val_precision: 0.5833\n",
            "Epoch 6/20\n",
            "13/13 [==============================] - 0s 13ms/step - loss: 0.5596 - precision: 0.6477 - val_loss: 0.5504 - val_precision: 0.5556\n",
            "Epoch 7/20\n",
            "13/13 [==============================] - 0s 10ms/step - loss: 0.5369 - precision: 0.7209 - val_loss: 0.5217 - val_precision: 0.6190\n",
            "Epoch 8/20\n",
            "13/13 [==============================] - 0s 10ms/step - loss: 0.5312 - precision: 0.6739 - val_loss: 0.5142 - val_precision: 0.6389\n",
            "Epoch 9/20\n",
            "13/13 [==============================] - 0s 10ms/step - loss: 0.5299 - precision: 0.6279 - val_loss: 0.5431 - val_precision: 0.8000\n",
            "Epoch 10/20\n",
            "13/13 [==============================] - 0s 10ms/step - loss: 0.5187 - precision: 0.6909 - val_loss: 0.5110 - val_precision: 0.7391\n",
            "Epoch 11/20\n",
            "13/13 [==============================] - 0s 9ms/step - loss: 0.5033 - precision: 0.7976 - val_loss: 0.4874 - val_precision: 0.6512\n",
            "Epoch 12/20\n",
            "13/13 [==============================] - 0s 9ms/step - loss: 0.4901 - precision: 0.7449 - val_loss: 0.4866 - val_precision: 0.7500\n",
            "Epoch 13/20\n",
            "13/13 [==============================] - 0s 10ms/step - loss: 0.4777 - precision: 0.7327 - val_loss: 0.4830 - val_precision: 0.8065\n",
            "Epoch 14/20\n",
            "13/13 [==============================] - 0s 10ms/step - loss: 0.4728 - precision: 0.7476 - val_loss: 0.4925 - val_precision: 0.8077\n",
            "Epoch 15/20\n",
            "13/13 [==============================] - 0s 11ms/step - loss: 0.4693 - precision: 0.7091 - val_loss: 0.4676 - val_precision: 0.6739\n",
            "Epoch 16/20\n",
            "13/13 [==============================] - 0s 10ms/step - loss: 0.4708 - precision: 0.7525 - val_loss: 0.4680 - val_precision: 0.7179\n",
            "Epoch 17/20\n",
            "13/13 [==============================] - 0s 10ms/step - loss: 0.4644 - precision: 0.7788 - val_loss: 0.4863 - val_precision: 0.8148\n",
            "Epoch 18/20\n",
            "13/13 [==============================] - 0s 9ms/step - loss: 0.4572 - precision: 0.7500 - val_loss: 0.4896 - val_precision: 0.8519\n",
            "Epoch 19/20\n",
            "13/13 [==============================] - 0s 9ms/step - loss: 0.4480 - precision: 0.7830 - val_loss: 0.4668 - val_precision: 0.7500\n",
            "Epoch 20/20\n",
            "13/13 [==============================] - 0s 10ms/step - loss: 0.4428 - precision: 0.7778 - val_loss: 0.4721 - val_precision: 0.7714\n",
            "7/7 [==============================] - 0s 3ms/step - loss: 0.4907 - precision: 0.7222\n",
            "Epoch 1/20\n"
          ]
        },
        {
          "output_type": "stream",
          "name": "stderr",
          "text": [
            "/usr/local/lib/python3.7/dist-packages/sklearn/model_selection/_validation.py:774: UserWarning: Scoring failed. The score on this train-test partition for these parameters will be set to nan. Details: \n",
            "Traceback (most recent call last):\n",
            "  File \"/usr/local/lib/python3.7/dist-packages/sklearn/model_selection/_validation.py\", line 761, in _score\n",
            "    scores = scorer(estimator, X_test, y_test)\n",
            "  File \"/usr/local/lib/python3.7/dist-packages/sklearn/metrics/_scorer.py\", line 418, in _passthrough_scorer\n",
            "    return estimator.score(*args, **kwargs)\n",
            "  File \"/usr/local/lib/python3.7/dist-packages/keras/wrappers/scikit_learn.py\", line 323, in score\n",
            "    raise ValueError('The model is not configured to compute accuracy. '\n",
            "ValueError: The model is not configured to compute accuracy. You should pass `metrics=[\"accuracy\"]` to the `model.compile()` method.\n",
            "\n",
            "  UserWarning,\n"
          ]
        },
        {
          "output_type": "stream",
          "name": "stdout",
          "text": [
            "13/13 [==============================] - 1s 26ms/step - loss: 0.6737 - precision: 0.0000e+00 - val_loss: 0.6639 - val_precision: 0.0000e+00\n",
            "Epoch 2/20\n",
            "13/13 [==============================] - 0s 5ms/step - loss: 0.6626 - precision: 0.0000e+00 - val_loss: 0.6510 - val_precision: 0.0000e+00\n",
            "Epoch 3/20\n",
            "13/13 [==============================] - 0s 5ms/step - loss: 0.6564 - precision: 0.0000e+00 - val_loss: 0.6440 - val_precision: 0.0000e+00\n",
            "Epoch 4/20\n",
            "13/13 [==============================] - 0s 6ms/step - loss: 0.6514 - precision: 0.0000e+00 - val_loss: 0.6365 - val_precision: 0.0000e+00\n",
            "Epoch 5/20\n",
            "13/13 [==============================] - 0s 5ms/step - loss: 0.6456 - precision: 1.0000 - val_loss: 0.6308 - val_precision: 0.0000e+00\n",
            "Epoch 6/20\n",
            "13/13 [==============================] - 0s 5ms/step - loss: 0.6406 - precision: 0.5000 - val_loss: 0.6260 - val_precision: 0.5000\n",
            "Epoch 7/20\n",
            "13/13 [==============================] - 0s 4ms/step - loss: 0.6351 - precision: 0.7000 - val_loss: 0.6196 - val_precision: 0.6000\n",
            "Epoch 8/20\n",
            "13/13 [==============================] - 0s 5ms/step - loss: 0.6300 - precision: 0.6364 - val_loss: 0.6119 - val_precision: 0.6000\n",
            "Epoch 9/20\n",
            "13/13 [==============================] - 0s 4ms/step - loss: 0.6254 - precision: 0.6842 - val_loss: 0.6057 - val_precision: 0.5556\n",
            "Epoch 10/20\n",
            "13/13 [==============================] - 0s 5ms/step - loss: 0.6199 - precision: 0.6364 - val_loss: 0.6001 - val_precision: 0.5000\n",
            "Epoch 11/20\n",
            "13/13 [==============================] - 0s 6ms/step - loss: 0.6149 - precision: 0.6061 - val_loss: 0.5938 - val_precision: 0.5000\n",
            "Epoch 12/20\n",
            "13/13 [==============================] - 0s 7ms/step - loss: 0.6103 - precision: 0.5641 - val_loss: 0.5884 - val_precision: 0.6000\n",
            "Epoch 13/20\n",
            "13/13 [==============================] - 0s 6ms/step - loss: 0.6058 - precision: 0.5400 - val_loss: 0.5840 - val_precision: 0.6364\n",
            "Epoch 14/20\n",
            "13/13 [==============================] - 0s 7ms/step - loss: 0.6015 - precision: 0.5614 - val_loss: 0.5775 - val_precision: 0.6471\n",
            "Epoch 15/20\n",
            "13/13 [==============================] - 0s 5ms/step - loss: 0.5960 - precision: 0.5333 - val_loss: 0.5727 - val_precision: 0.6087\n",
            "Epoch 16/20\n",
            "13/13 [==============================] - 0s 5ms/step - loss: 0.5926 - precision: 0.6053 - val_loss: 0.5677 - val_precision: 0.6087\n",
            "Epoch 17/20\n",
            "13/13 [==============================] - 0s 5ms/step - loss: 0.5877 - precision: 0.5783 - val_loss: 0.5629 - val_precision: 0.5833\n",
            "Epoch 18/20\n",
            "13/13 [==============================] - 0s 5ms/step - loss: 0.5831 - precision: 0.5972 - val_loss: 0.5576 - val_precision: 0.6087\n",
            "Epoch 19/20\n",
            "13/13 [==============================] - 0s 5ms/step - loss: 0.5788 - precision: 0.6216 - val_loss: 0.5530 - val_precision: 0.6154\n",
            "Epoch 20/20\n",
            "13/13 [==============================] - 0s 7ms/step - loss: 0.5745 - precision: 0.6092 - val_loss: 0.5482 - val_precision: 0.5926\n",
            "7/7 [==============================] - 0s 3ms/step - loss: 0.5698 - precision: 0.6250\n",
            "Epoch 1/20\n"
          ]
        },
        {
          "output_type": "stream",
          "name": "stderr",
          "text": [
            "/usr/local/lib/python3.7/dist-packages/sklearn/model_selection/_validation.py:774: UserWarning: Scoring failed. The score on this train-test partition for these parameters will be set to nan. Details: \n",
            "Traceback (most recent call last):\n",
            "  File \"/usr/local/lib/python3.7/dist-packages/sklearn/model_selection/_validation.py\", line 761, in _score\n",
            "    scores = scorer(estimator, X_test, y_test)\n",
            "  File \"/usr/local/lib/python3.7/dist-packages/sklearn/metrics/_scorer.py\", line 418, in _passthrough_scorer\n",
            "    return estimator.score(*args, **kwargs)\n",
            "  File \"/usr/local/lib/python3.7/dist-packages/keras/wrappers/scikit_learn.py\", line 323, in score\n",
            "    raise ValueError('The model is not configured to compute accuracy. '\n",
            "ValueError: The model is not configured to compute accuracy. You should pass `metrics=[\"accuracy\"]` to the `model.compile()` method.\n",
            "\n",
            "  UserWarning,\n"
          ]
        },
        {
          "output_type": "stream",
          "name": "stdout",
          "text": [
            "13/13 [==============================] - 1s 24ms/step - loss: 0.6659 - precision: 0.0000e+00 - val_loss: 0.6504 - val_precision: 0.0000e+00\n",
            "Epoch 2/20\n",
            "13/13 [==============================] - 0s 6ms/step - loss: 0.6563 - precision: 0.0000e+00 - val_loss: 0.6411 - val_precision: 0.0000e+00\n",
            "Epoch 3/20\n",
            "13/13 [==============================] - 0s 6ms/step - loss: 0.6499 - precision: 0.0000e+00 - val_loss: 0.6341 - val_precision: 0.0000e+00\n",
            "Epoch 4/20\n",
            "13/13 [==============================] - 0s 6ms/step - loss: 0.6452 - precision: 0.0000e+00 - val_loss: 0.6275 - val_precision: 0.0000e+00\n",
            "Epoch 5/20\n",
            "13/13 [==============================] - 0s 5ms/step - loss: 0.6406 - precision: 0.0000e+00 - val_loss: 0.6211 - val_precision: 0.0000e+00\n",
            "Epoch 6/20\n",
            "13/13 [==============================] - 0s 5ms/step - loss: 0.6365 - precision: 0.0000e+00 - val_loss: 0.6155 - val_precision: 0.0000e+00\n",
            "Epoch 7/20\n",
            "13/13 [==============================] - 0s 5ms/step - loss: 0.6315 - precision: 1.0000 - val_loss: 0.6089 - val_precision: 0.0000e+00\n",
            "Epoch 8/20\n",
            "13/13 [==============================] - 0s 6ms/step - loss: 0.6269 - precision: 1.0000 - val_loss: 0.6034 - val_precision: 1.0000\n",
            "Epoch 9/20\n",
            "13/13 [==============================] - 0s 6ms/step - loss: 0.6226 - precision: 1.0000 - val_loss: 0.5981 - val_precision: 1.0000\n",
            "Epoch 10/20\n",
            "13/13 [==============================] - 0s 5ms/step - loss: 0.6183 - precision: 0.8750 - val_loss: 0.5927 - val_precision: 1.0000\n",
            "Epoch 11/20\n",
            "13/13 [==============================] - 0s 6ms/step - loss: 0.6151 - precision: 1.0000 - val_loss: 0.5877 - val_precision: 1.0000\n",
            "Epoch 12/20\n",
            "13/13 [==============================] - 0s 4ms/step - loss: 0.6098 - precision: 0.8235 - val_loss: 0.5808 - val_precision: 0.8333\n",
            "Epoch 13/20\n",
            "13/13 [==============================] - 0s 5ms/step - loss: 0.6054 - precision: 0.7826 - val_loss: 0.5754 - val_precision: 0.8333\n",
            "Epoch 14/20\n",
            "13/13 [==============================] - 0s 5ms/step - loss: 0.6013 - precision: 0.7826 - val_loss: 0.5699 - val_precision: 0.8571\n",
            "Epoch 15/20\n",
            "13/13 [==============================] - 0s 5ms/step - loss: 0.5970 - precision: 0.7407 - val_loss: 0.5640 - val_precision: 0.7500\n",
            "Epoch 16/20\n",
            "13/13 [==============================] - 0s 6ms/step - loss: 0.5915 - precision: 0.7778 - val_loss: 0.5583 - val_precision: 0.6923\n",
            "Epoch 17/20\n",
            "13/13 [==============================] - 0s 6ms/step - loss: 0.5878 - precision: 0.7805 - val_loss: 0.5535 - val_precision: 0.6667\n",
            "Epoch 18/20\n",
            "13/13 [==============================] - 0s 7ms/step - loss: 0.5834 - precision: 0.7561 - val_loss: 0.5474 - val_precision: 0.6667\n",
            "Epoch 19/20\n",
            "13/13 [==============================] - 0s 6ms/step - loss: 0.5795 - precision: 0.7333 - val_loss: 0.5428 - val_precision: 0.7059\n",
            "Epoch 20/20\n",
            "13/13 [==============================] - 0s 5ms/step - loss: 0.5748 - precision: 0.7586 - val_loss: 0.5364 - val_precision: 0.7273\n",
            "7/7 [==============================] - 0s 3ms/step - loss: 0.5712 - precision: 0.6667\n",
            "Epoch 1/20\n"
          ]
        },
        {
          "output_type": "stream",
          "name": "stderr",
          "text": [
            "/usr/local/lib/python3.7/dist-packages/sklearn/model_selection/_validation.py:774: UserWarning: Scoring failed. The score on this train-test partition for these parameters will be set to nan. Details: \n",
            "Traceback (most recent call last):\n",
            "  File \"/usr/local/lib/python3.7/dist-packages/sklearn/model_selection/_validation.py\", line 761, in _score\n",
            "    scores = scorer(estimator, X_test, y_test)\n",
            "  File \"/usr/local/lib/python3.7/dist-packages/sklearn/metrics/_scorer.py\", line 418, in _passthrough_scorer\n",
            "    return estimator.score(*args, **kwargs)\n",
            "  File \"/usr/local/lib/python3.7/dist-packages/keras/wrappers/scikit_learn.py\", line 323, in score\n",
            "    raise ValueError('The model is not configured to compute accuracy. '\n",
            "ValueError: The model is not configured to compute accuracy. You should pass `metrics=[\"accuracy\"]` to the `model.compile()` method.\n",
            "\n",
            "  UserWarning,\n"
          ]
        },
        {
          "output_type": "stream",
          "name": "stdout",
          "text": [
            "13/13 [==============================] - 1s 25ms/step - loss: 0.6863 - precision: 0.3571 - val_loss: 0.6693 - val_precision: 0.0000e+00\n",
            "Epoch 2/20\n",
            "13/13 [==============================] - 0s 6ms/step - loss: 0.6706 - precision: 0.0000e+00 - val_loss: 0.6592 - val_precision: 0.0000e+00\n",
            "Epoch 3/20\n",
            "13/13 [==============================] - 0s 5ms/step - loss: 0.6639 - precision: 0.0000e+00 - val_loss: 0.6506 - val_precision: 0.0000e+00\n",
            "Epoch 4/20\n",
            "13/13 [==============================] - 0s 5ms/step - loss: 0.6559 - precision: 0.0000e+00 - val_loss: 0.6454 - val_precision: 0.0000e+00\n",
            "Epoch 5/20\n",
            "13/13 [==============================] - 0s 5ms/step - loss: 0.6495 - precision: 0.0000e+00 - val_loss: 0.6393 - val_precision: 0.0000e+00\n",
            "Epoch 6/20\n",
            "13/13 [==============================] - 0s 5ms/step - loss: 0.6427 - precision: 1.0000 - val_loss: 0.6331 - val_precision: 0.0000e+00\n",
            "Epoch 7/20\n",
            "13/13 [==============================] - 0s 5ms/step - loss: 0.6348 - precision: 1.0000 - val_loss: 0.6255 - val_precision: 0.0000e+00\n",
            "Epoch 8/20\n",
            "13/13 [==============================] - 0s 5ms/step - loss: 0.6265 - precision: 1.0000 - val_loss: 0.6194 - val_precision: 0.5000\n",
            "Epoch 9/20\n",
            "13/13 [==============================] - 0s 6ms/step - loss: 0.6206 - precision: 0.9167 - val_loss: 0.6138 - val_precision: 0.5714\n",
            "Epoch 10/20\n",
            "13/13 [==============================] - 0s 5ms/step - loss: 0.6119 - precision: 0.8125 - val_loss: 0.6066 - val_precision: 0.5000\n",
            "Epoch 11/20\n",
            "13/13 [==============================] - 0s 6ms/step - loss: 0.6051 - precision: 0.8077 - val_loss: 0.6005 - val_precision: 0.5833\n",
            "Epoch 12/20\n",
            "13/13 [==============================] - 0s 6ms/step - loss: 0.5976 - precision: 0.8000 - val_loss: 0.5939 - val_precision: 0.5714\n",
            "Epoch 13/20\n",
            "13/13 [==============================] - 0s 5ms/step - loss: 0.5921 - precision: 0.7234 - val_loss: 0.5886 - val_precision: 0.6000\n",
            "Epoch 14/20\n",
            "13/13 [==============================] - 0s 6ms/step - loss: 0.5851 - precision: 0.7317 - val_loss: 0.5835 - val_precision: 0.6000\n",
            "Epoch 15/20\n",
            "13/13 [==============================] - 0s 5ms/step - loss: 0.5791 - precision: 0.7273 - val_loss: 0.5791 - val_precision: 0.5714\n",
            "Epoch 16/20\n",
            "13/13 [==============================] - 0s 6ms/step - loss: 0.5736 - precision: 0.6812 - val_loss: 0.5745 - val_precision: 0.5385\n",
            "Epoch 17/20\n",
            "13/13 [==============================] - 0s 5ms/step - loss: 0.5687 - precision: 0.7333 - val_loss: 0.5689 - val_precision: 0.6000\n",
            "Epoch 18/20\n",
            "13/13 [==============================] - 0s 6ms/step - loss: 0.5625 - precision: 0.7077 - val_loss: 0.5654 - val_precision: 0.5556\n",
            "Epoch 19/20\n",
            "13/13 [==============================] - 0s 6ms/step - loss: 0.5588 - precision: 0.6747 - val_loss: 0.5622 - val_precision: 0.5484\n",
            "Epoch 20/20\n",
            "13/13 [==============================] - 0s 6ms/step - loss: 0.5545 - precision: 0.6905 - val_loss: 0.5580 - val_precision: 0.5357\n",
            "7/7 [==============================] - 0s 3ms/step - loss: 0.5967 - precision: 0.6429\n",
            "Epoch 1/20\n"
          ]
        },
        {
          "output_type": "stream",
          "name": "stderr",
          "text": [
            "/usr/local/lib/python3.7/dist-packages/sklearn/model_selection/_validation.py:774: UserWarning: Scoring failed. The score on this train-test partition for these parameters will be set to nan. Details: \n",
            "Traceback (most recent call last):\n",
            "  File \"/usr/local/lib/python3.7/dist-packages/sklearn/model_selection/_validation.py\", line 761, in _score\n",
            "    scores = scorer(estimator, X_test, y_test)\n",
            "  File \"/usr/local/lib/python3.7/dist-packages/sklearn/metrics/_scorer.py\", line 418, in _passthrough_scorer\n",
            "    return estimator.score(*args, **kwargs)\n",
            "  File \"/usr/local/lib/python3.7/dist-packages/keras/wrappers/scikit_learn.py\", line 323, in score\n",
            "    raise ValueError('The model is not configured to compute accuracy. '\n",
            "ValueError: The model is not configured to compute accuracy. You should pass `metrics=[\"accuracy\"]` to the `model.compile()` method.\n",
            "\n",
            "  UserWarning,\n"
          ]
        },
        {
          "output_type": "stream",
          "name": "stdout",
          "text": [
            "13/13 [==============================] - 1s 25ms/step - loss: 0.6817 - precision: 0.2647 - val_loss: 0.6539 - val_precision: 0.0000e+00\n",
            "Epoch 2/20\n",
            "13/13 [==============================] - 0s 6ms/step - loss: 0.6620 - precision: 0.0000e+00 - val_loss: 0.6400 - val_precision: 0.0000e+00\n",
            "Epoch 3/20\n",
            "13/13 [==============================] - 0s 7ms/step - loss: 0.6525 - precision: 0.0000e+00 - val_loss: 0.6302 - val_precision: 0.0000e+00\n",
            "Epoch 4/20\n",
            "13/13 [==============================] - 0s 6ms/step - loss: 0.6445 - precision: 0.5000 - val_loss: 0.6227 - val_precision: 0.0000e+00\n",
            "Epoch 5/20\n",
            "13/13 [==============================] - 0s 6ms/step - loss: 0.6374 - precision: 0.8000 - val_loss: 0.6142 - val_precision: 0.5000\n",
            "Epoch 6/20\n",
            "13/13 [==============================] - 0s 6ms/step - loss: 0.6299 - precision: 0.6364 - val_loss: 0.6065 - val_precision: 0.4000\n",
            "Epoch 7/20\n",
            "13/13 [==============================] - 0s 6ms/step - loss: 0.6246 - precision: 0.5526 - val_loss: 0.5994 - val_precision: 0.6000\n",
            "Epoch 8/20\n",
            "13/13 [==============================] - 0s 6ms/step - loss: 0.6171 - precision: 0.5294 - val_loss: 0.5910 - val_precision: 0.6000\n",
            "Epoch 9/20\n",
            "13/13 [==============================] - 0s 5ms/step - loss: 0.6104 - precision: 0.5435 - val_loss: 0.5835 - val_precision: 0.6316\n",
            "Epoch 10/20\n",
            "13/13 [==============================] - 0s 7ms/step - loss: 0.6031 - precision: 0.5312 - val_loss: 0.5767 - val_precision: 0.6667\n",
            "Epoch 11/20\n",
            "13/13 [==============================] - 0s 6ms/step - loss: 0.5979 - precision: 0.5882 - val_loss: 0.5698 - val_precision: 0.6842\n",
            "Epoch 12/20\n",
            "13/13 [==============================] - 0s 6ms/step - loss: 0.5925 - precision: 0.5857 - val_loss: 0.5630 - val_precision: 0.6087\n",
            "Epoch 13/20\n",
            "13/13 [==============================] - 0s 6ms/step - loss: 0.5853 - precision: 0.5833 - val_loss: 0.5566 - val_precision: 0.5833\n",
            "Epoch 14/20\n",
            "13/13 [==============================] - 0s 6ms/step - loss: 0.5801 - precision: 0.5921 - val_loss: 0.5517 - val_precision: 0.6667\n",
            "Epoch 15/20\n",
            "13/13 [==============================] - 0s 6ms/step - loss: 0.5753 - precision: 0.6023 - val_loss: 0.5457 - val_precision: 0.6207\n",
            "Epoch 16/20\n",
            "13/13 [==============================] - 0s 6ms/step - loss: 0.5690 - precision: 0.6386 - val_loss: 0.5410 - val_precision: 0.6000\n",
            "Epoch 17/20\n",
            "13/13 [==============================] - 0s 6ms/step - loss: 0.5644 - precision: 0.6237 - val_loss: 0.5345 - val_precision: 0.6552\n",
            "Epoch 18/20\n",
            "13/13 [==============================] - 0s 6ms/step - loss: 0.5599 - precision: 0.6505 - val_loss: 0.5296 - val_precision: 0.6667\n",
            "Epoch 19/20\n",
            "13/13 [==============================] - 0s 5ms/step - loss: 0.5536 - precision: 0.6705 - val_loss: 0.5263 - val_precision: 0.6538\n",
            "Epoch 20/20\n",
            "13/13 [==============================] - 0s 5ms/step - loss: 0.5499 - precision: 0.6465 - val_loss: 0.5213 - val_precision: 0.6667\n",
            "7/7 [==============================] - 0s 3ms/step - loss: 0.5493 - precision: 0.6364\n",
            "Epoch 1/20\n"
          ]
        },
        {
          "output_type": "stream",
          "name": "stderr",
          "text": [
            "/usr/local/lib/python3.7/dist-packages/sklearn/model_selection/_validation.py:774: UserWarning: Scoring failed. The score on this train-test partition for these parameters will be set to nan. Details: \n",
            "Traceback (most recent call last):\n",
            "  File \"/usr/local/lib/python3.7/dist-packages/sklearn/model_selection/_validation.py\", line 761, in _score\n",
            "    scores = scorer(estimator, X_test, y_test)\n",
            "  File \"/usr/local/lib/python3.7/dist-packages/sklearn/metrics/_scorer.py\", line 418, in _passthrough_scorer\n",
            "    return estimator.score(*args, **kwargs)\n",
            "  File \"/usr/local/lib/python3.7/dist-packages/keras/wrappers/scikit_learn.py\", line 323, in score\n",
            "    raise ValueError('The model is not configured to compute accuracy. '\n",
            "ValueError: The model is not configured to compute accuracy. You should pass `metrics=[\"accuracy\"]` to the `model.compile()` method.\n",
            "\n",
            "  UserWarning,\n"
          ]
        },
        {
          "output_type": "stream",
          "name": "stdout",
          "text": [
            "13/13 [==============================] - 1s 24ms/step - loss: 0.6836 - precision: 0.4110 - val_loss: 0.6603 - val_precision: 0.0000e+00\n",
            "Epoch 2/20\n",
            "13/13 [==============================] - 0s 6ms/step - loss: 0.6591 - precision: 0.0000e+00 - val_loss: 0.6457 - val_precision: 0.0000e+00\n",
            "Epoch 3/20\n",
            "13/13 [==============================] - 0s 4ms/step - loss: 0.6528 - precision: 0.0000e+00 - val_loss: 0.6384 - val_precision: 0.0000e+00\n",
            "Epoch 4/20\n",
            "13/13 [==============================] - 0s 5ms/step - loss: 0.6458 - precision: 0.0000e+00 - val_loss: 0.6300 - val_precision: 0.0000e+00\n",
            "Epoch 5/20\n",
            "13/13 [==============================] - 0s 6ms/step - loss: 0.6394 - precision: 0.0000e+00 - val_loss: 0.6220 - val_precision: 0.0000e+00\n",
            "Epoch 6/20\n",
            "13/13 [==============================] - 0s 5ms/step - loss: 0.6339 - precision: 0.0000e+00 - val_loss: 0.6144 - val_precision: 0.0000e+00\n",
            "Epoch 7/20\n",
            "13/13 [==============================] - 0s 5ms/step - loss: 0.6269 - precision: 1.0000 - val_loss: 0.6061 - val_precision: 1.0000\n",
            "Epoch 8/20\n",
            "13/13 [==============================] - 0s 6ms/step - loss: 0.6211 - precision: 0.7500 - val_loss: 0.5981 - val_precision: 1.0000\n",
            "Epoch 9/20\n",
            "13/13 [==============================] - 0s 5ms/step - loss: 0.6152 - precision: 0.8235 - val_loss: 0.5892 - val_precision: 0.6000\n",
            "Epoch 10/20\n",
            "13/13 [==============================] - 0s 5ms/step - loss: 0.6083 - precision: 0.8571 - val_loss: 0.5817 - val_precision: 0.6000\n",
            "Epoch 11/20\n",
            "13/13 [==============================] - 0s 6ms/step - loss: 0.6027 - precision: 0.8571 - val_loss: 0.5727 - val_precision: 0.6667\n",
            "Epoch 12/20\n",
            "13/13 [==============================] - 0s 6ms/step - loss: 0.5972 - precision: 0.6964 - val_loss: 0.5633 - val_precision: 0.6316\n",
            "Epoch 13/20\n",
            "13/13 [==============================] - 0s 4ms/step - loss: 0.5889 - precision: 0.7045 - val_loss: 0.5586 - val_precision: 0.6364\n",
            "Epoch 14/20\n",
            "13/13 [==============================] - 0s 5ms/step - loss: 0.5842 - precision: 0.7222 - val_loss: 0.5490 - val_precision: 0.6471\n",
            "Epoch 15/20\n",
            "13/13 [==============================] - 0s 5ms/step - loss: 0.5774 - precision: 0.7031 - val_loss: 0.5415 - val_precision: 0.6190\n",
            "Epoch 16/20\n",
            "13/13 [==============================] - 0s 6ms/step - loss: 0.5716 - precision: 0.7333 - val_loss: 0.5354 - val_precision: 0.6667\n",
            "Epoch 17/20\n",
            "13/13 [==============================] - 0s 6ms/step - loss: 0.5656 - precision: 0.7321 - val_loss: 0.5288 - val_precision: 0.6818\n",
            "Epoch 18/20\n",
            "13/13 [==============================] - 0s 5ms/step - loss: 0.5641 - precision: 0.7229 - val_loss: 0.5213 - val_precision: 0.7308\n",
            "Epoch 19/20\n",
            "13/13 [==============================] - 0s 5ms/step - loss: 0.5552 - precision: 0.7581 - val_loss: 0.5225 - val_precision: 0.7368\n",
            "Epoch 20/20\n",
            "13/13 [==============================] - 0s 6ms/step - loss: 0.5520 - precision: 0.7361 - val_loss: 0.5103 - val_precision: 0.7407\n",
            "7/7 [==============================] - 0s 3ms/step - loss: 0.5454 - precision: 0.7391\n",
            "Epoch 1/20\n"
          ]
        },
        {
          "output_type": "stream",
          "name": "stderr",
          "text": [
            "/usr/local/lib/python3.7/dist-packages/sklearn/model_selection/_validation.py:774: UserWarning: Scoring failed. The score on this train-test partition for these parameters will be set to nan. Details: \n",
            "Traceback (most recent call last):\n",
            "  File \"/usr/local/lib/python3.7/dist-packages/sklearn/model_selection/_validation.py\", line 761, in _score\n",
            "    scores = scorer(estimator, X_test, y_test)\n",
            "  File \"/usr/local/lib/python3.7/dist-packages/sklearn/metrics/_scorer.py\", line 418, in _passthrough_scorer\n",
            "    return estimator.score(*args, **kwargs)\n",
            "  File \"/usr/local/lib/python3.7/dist-packages/keras/wrappers/scikit_learn.py\", line 323, in score\n",
            "    raise ValueError('The model is not configured to compute accuracy. '\n",
            "ValueError: The model is not configured to compute accuracy. You should pass `metrics=[\"accuracy\"]` to the `model.compile()` method.\n",
            "\n",
            "  UserWarning,\n"
          ]
        },
        {
          "output_type": "stream",
          "name": "stdout",
          "text": [
            "13/13 [==============================] - 2s 27ms/step - loss: 0.6739 - precision: 0.3333 - val_loss: 0.6565 - val_precision: 0.0000e+00\n",
            "Epoch 2/20\n",
            "13/13 [==============================] - 0s 5ms/step - loss: 0.6559 - precision: 0.0000e+00 - val_loss: 0.6442 - val_precision: 0.0000e+00\n",
            "Epoch 3/20\n",
            "13/13 [==============================] - 0s 5ms/step - loss: 0.6445 - precision: 0.0000e+00 - val_loss: 0.6354 - val_precision: 0.0000e+00\n",
            "Epoch 4/20\n",
            "13/13 [==============================] - 0s 6ms/step - loss: 0.6349 - precision: 1.0000 - val_loss: 0.6256 - val_precision: 0.0000e+00\n",
            "Epoch 5/20\n",
            "13/13 [==============================] - 0s 5ms/step - loss: 0.6241 - precision: 1.0000 - val_loss: 0.6186 - val_precision: 0.3333\n",
            "Epoch 6/20\n",
            "13/13 [==============================] - 0s 5ms/step - loss: 0.6148 - precision: 0.9000 - val_loss: 0.6108 - val_precision: 0.5000\n",
            "Epoch 7/20\n",
            "13/13 [==============================] - 0s 6ms/step - loss: 0.6065 - precision: 0.7692 - val_loss: 0.6016 - val_precision: 0.5455\n",
            "Epoch 8/20\n",
            "13/13 [==============================] - 0s 5ms/step - loss: 0.5958 - precision: 0.7317 - val_loss: 0.5949 - val_precision: 0.5385\n",
            "Epoch 9/20\n",
            "13/13 [==============================] - 0s 6ms/step - loss: 0.5911 - precision: 0.7561 - val_loss: 0.5885 - val_precision: 0.5882\n",
            "Epoch 10/20\n",
            "13/13 [==============================] - 0s 5ms/step - loss: 0.5824 - precision: 0.6364 - val_loss: 0.5847 - val_precision: 0.5517\n",
            "Epoch 11/20\n",
            "13/13 [==============================] - 0s 5ms/step - loss: 0.5730 - precision: 0.6753 - val_loss: 0.5772 - val_precision: 0.5789\n",
            "Epoch 12/20\n",
            "13/13 [==============================] - 0s 6ms/step - loss: 0.5695 - precision: 0.7115 - val_loss: 0.5725 - val_precision: 0.6000\n",
            "Epoch 13/20\n",
            "13/13 [==============================] - 0s 6ms/step - loss: 0.5656 - precision: 0.6304 - val_loss: 0.5704 - val_precision: 0.5294\n",
            "Epoch 14/20\n",
            "13/13 [==============================] - 0s 6ms/step - loss: 0.5573 - precision: 0.6456 - val_loss: 0.5648 - val_precision: 0.5714\n",
            "Epoch 15/20\n",
            "13/13 [==============================] - 0s 5ms/step - loss: 0.5546 - precision: 0.6623 - val_loss: 0.5606 - val_precision: 0.5455\n",
            "Epoch 16/20\n",
            "13/13 [==============================] - 0s 5ms/step - loss: 0.5471 - precision: 0.6667 - val_loss: 0.5562 - val_precision: 0.5000\n",
            "Epoch 17/20\n",
            "13/13 [==============================] - 0s 6ms/step - loss: 0.5436 - precision: 0.7179 - val_loss: 0.5522 - val_precision: 0.5517\n",
            "Epoch 18/20\n",
            "13/13 [==============================] - 0s 5ms/step - loss: 0.5400 - precision: 0.6522 - val_loss: 0.5483 - val_precision: 0.5455\n",
            "Epoch 19/20\n",
            "13/13 [==============================] - 0s 6ms/step - loss: 0.5354 - precision: 0.6813 - val_loss: 0.5444 - val_precision: 0.5517\n",
            "Epoch 20/20\n",
            "13/13 [==============================] - 0s 5ms/step - loss: 0.5325 - precision: 0.6737 - val_loss: 0.5417 - val_precision: 0.5625\n",
            "7/7 [==============================] - 0s 3ms/step - loss: 0.5806 - precision: 0.6410\n",
            "Epoch 1/20\n"
          ]
        },
        {
          "output_type": "stream",
          "name": "stderr",
          "text": [
            "/usr/local/lib/python3.7/dist-packages/sklearn/model_selection/_validation.py:774: UserWarning: Scoring failed. The score on this train-test partition for these parameters will be set to nan. Details: \n",
            "Traceback (most recent call last):\n",
            "  File \"/usr/local/lib/python3.7/dist-packages/sklearn/model_selection/_validation.py\", line 761, in _score\n",
            "    scores = scorer(estimator, X_test, y_test)\n",
            "  File \"/usr/local/lib/python3.7/dist-packages/sklearn/metrics/_scorer.py\", line 418, in _passthrough_scorer\n",
            "    return estimator.score(*args, **kwargs)\n",
            "  File \"/usr/local/lib/python3.7/dist-packages/keras/wrappers/scikit_learn.py\", line 323, in score\n",
            "    raise ValueError('The model is not configured to compute accuracy. '\n",
            "ValueError: The model is not configured to compute accuracy. You should pass `metrics=[\"accuracy\"]` to the `model.compile()` method.\n",
            "\n",
            "  UserWarning,\n"
          ]
        },
        {
          "output_type": "stream",
          "name": "stdout",
          "text": [
            "13/13 [==============================] - 1s 30ms/step - loss: 0.6538 - precision: 0.5000 - val_loss: 0.6260 - val_precision: 0.0000e+00\n",
            "Epoch 2/20\n",
            "13/13 [==============================] - 0s 8ms/step - loss: 0.6382 - precision: 0.4874 - val_loss: 0.6296 - val_precision: 1.0000\n",
            "Epoch 3/20\n",
            "13/13 [==============================] - 0s 8ms/step - loss: 0.6046 - precision: 0.5700 - val_loss: 0.5359 - val_precision: 0.6875\n",
            "Epoch 4/20\n",
            "13/13 [==============================] - 0s 8ms/step - loss: 0.5548 - precision: 0.6017 - val_loss: 0.4904 - val_precision: 0.6275\n",
            "Epoch 5/20\n",
            "13/13 [==============================] - 0s 9ms/step - loss: 0.5060 - precision: 0.6788 - val_loss: 0.4652 - val_precision: 0.7105\n",
            "Epoch 6/20\n",
            "13/13 [==============================] - 0s 8ms/step - loss: 0.4904 - precision: 0.6510 - val_loss: 0.5222 - val_precision: 0.8500\n",
            "Epoch 7/20\n",
            "13/13 [==============================] - 0s 8ms/step - loss: 0.4691 - precision: 0.7377 - val_loss: 0.4659 - val_precision: 0.8125\n",
            "Epoch 8/20\n",
            "13/13 [==============================] - 0s 8ms/step - loss: 0.4367 - precision: 0.7162 - val_loss: 0.4375 - val_precision: 0.7297\n",
            "Epoch 9/20\n",
            "13/13 [==============================] - 0s 10ms/step - loss: 0.4436 - precision: 0.7133 - val_loss: 0.5283 - val_precision: 0.7931\n",
            "Epoch 10/20\n",
            "13/13 [==============================] - 0s 8ms/step - loss: 0.4295 - precision: 0.7092 - val_loss: 0.4609 - val_precision: 0.7879\n",
            "Epoch 11/20\n",
            "13/13 [==============================] - 0s 8ms/step - loss: 0.4131 - precision: 0.7464 - val_loss: 0.4834 - val_precision: 0.7368\n",
            "Epoch 12/20\n",
            "13/13 [==============================] - 0s 8ms/step - loss: 0.4149 - precision: 0.7385 - val_loss: 0.4766 - val_precision: 0.6977\n",
            "Epoch 13/20\n",
            "13/13 [==============================] - 0s 9ms/step - loss: 0.4012 - precision: 0.7500 - val_loss: 0.4784 - val_precision: 0.6923\n",
            "Epoch 14/20\n",
            "13/13 [==============================] - 0s 9ms/step - loss: 0.3835 - precision: 0.7744 - val_loss: 0.5134 - val_precision: 0.6552\n",
            "Epoch 15/20\n",
            "13/13 [==============================] - 0s 9ms/step - loss: 0.4030 - precision: 0.7303 - val_loss: 0.4792 - val_precision: 0.6667\n",
            "Epoch 16/20\n",
            "13/13 [==============================] - 0s 8ms/step - loss: 0.4094 - precision: 0.7308 - val_loss: 0.5138 - val_precision: 0.7000\n",
            "Epoch 17/20\n",
            "13/13 [==============================] - 0s 10ms/step - loss: 0.4533 - precision: 0.7123 - val_loss: 0.4955 - val_precision: 0.7222\n",
            "Epoch 18/20\n",
            "13/13 [==============================] - 0s 8ms/step - loss: 0.4225 - precision: 0.7239 - val_loss: 0.4961 - val_precision: 0.6538\n",
            "7/7 [==============================] - 0s 4ms/step - loss: 0.5570 - precision: 0.6076\n",
            "Epoch 1/20\n"
          ]
        },
        {
          "output_type": "stream",
          "name": "stderr",
          "text": [
            "/usr/local/lib/python3.7/dist-packages/sklearn/model_selection/_validation.py:774: UserWarning: Scoring failed. The score on this train-test partition for these parameters will be set to nan. Details: \n",
            "Traceback (most recent call last):\n",
            "  File \"/usr/local/lib/python3.7/dist-packages/sklearn/model_selection/_validation.py\", line 761, in _score\n",
            "    scores = scorer(estimator, X_test, y_test)\n",
            "  File \"/usr/local/lib/python3.7/dist-packages/sklearn/metrics/_scorer.py\", line 418, in _passthrough_scorer\n",
            "    return estimator.score(*args, **kwargs)\n",
            "  File \"/usr/local/lib/python3.7/dist-packages/keras/wrappers/scikit_learn.py\", line 323, in score\n",
            "    raise ValueError('The model is not configured to compute accuracy. '\n",
            "ValueError: The model is not configured to compute accuracy. You should pass `metrics=[\"accuracy\"]` to the `model.compile()` method.\n",
            "\n",
            "  UserWarning,\n"
          ]
        },
        {
          "output_type": "stream",
          "name": "stdout",
          "text": [
            "13/13 [==============================] - 1s 29ms/step - loss: 0.6588 - precision: 0.3636 - val_loss: 0.6098 - val_precision: 0.0000e+00\n",
            "Epoch 2/20\n",
            "13/13 [==============================] - 0s 8ms/step - loss: 0.6156 - precision: 0.7895 - val_loss: 0.5796 - val_precision: 1.0000\n",
            "Epoch 3/20\n",
            "13/13 [==============================] - 0s 9ms/step - loss: 0.5715 - precision: 0.5856 - val_loss: 0.5141 - val_precision: 0.7826\n",
            "Epoch 4/20\n",
            "13/13 [==============================] - 0s 9ms/step - loss: 0.5368 - precision: 0.6074 - val_loss: 0.7023 - val_precision: 0.7500\n",
            "Epoch 5/20\n",
            "13/13 [==============================] - 0s 8ms/step - loss: 0.5726 - precision: 0.6436 - val_loss: 0.5604 - val_precision: 0.8125\n",
            "Epoch 6/20\n",
            "13/13 [==============================] - 0s 9ms/step - loss: 0.5130 - precision: 0.6512 - val_loss: 0.5699 - val_precision: 0.8667\n",
            "Epoch 7/20\n",
            "13/13 [==============================] - 0s 9ms/step - loss: 0.5091 - precision: 0.6754 - val_loss: 0.5547 - val_precision: 0.8095\n",
            "Epoch 8/20\n",
            "12/13 [==========================>...] - ETA: 0s - loss: 0.4966 - precision: 0.6585"
          ]
        }
      ]
    },
    {
      "cell_type": "code",
      "source": [
        "ann_model.best_params_"
      ],
      "metadata": {
        "colab": {
          "base_uri": "https://localhost:8080/"
        },
        "id": "4yLfHzbe4iIJ",
        "outputId": "ae53bdb6-e467-403e-e696-ff8a7c2d3e8c"
      },
      "execution_count": 122,
      "outputs": [
        {
          "output_type": "execute_result",
          "data": {
            "text/plain": [
              "{'units': 500, 'layers': 4}"
            ]
          },
          "metadata": {},
          "execution_count": 122
        }
      ]
    },
    {
      "cell_type": "code",
      "source": [
        "ann_model.best_score_"
      ],
      "metadata": {
        "colab": {
          "base_uri": "https://localhost:8080/"
        },
        "id": "ZVFiFcRZ4mK6",
        "outputId": "70dbff55-2279-4d74-cd4d-0cbefdc986ab"
      },
      "execution_count": 123,
      "outputs": [
        {
          "output_type": "execute_result",
          "data": {
            "text/plain": [
              "0.7573569218317667"
            ]
          },
          "metadata": {},
          "execution_count": 123
        }
      ]
    },
    {
      "cell_type": "code",
      "source": [
        "model = ann_model.best_estimator_"
      ],
      "metadata": {
        "id": "9QR6Je0q4o90"
      },
      "execution_count": 124,
      "outputs": []
    },
    {
      "cell_type": "code",
      "source": [
        "model.fit(train_X, train_y, epochs = 100, validation_data = (test_X, test_y),callbacks=[keras.callbacks.EarlyStopping(patience=10)])"
      ],
      "metadata": {
        "colab": {
          "base_uri": "https://localhost:8080/"
        },
        "id": "hok_Lzfi4sWU",
        "outputId": "e94a5f44-398b-45e0-a81c-292adcc18670"
      },
      "execution_count": 125,
      "outputs": [
        {
          "output_type": "stream",
          "name": "stdout",
          "text": [
            "Epoch 1/100\n",
            "20/20 [==============================] - 1s 24ms/step - loss: 0.6530 - accuracy: 0.6450 - val_loss: 0.5958 - val_accuracy: 0.7208\n",
            "Epoch 2/100\n",
            "20/20 [==============================] - 0s 15ms/step - loss: 0.5781 - accuracy: 0.6857 - val_loss: 0.5123 - val_accuracy: 0.7532\n",
            "Epoch 3/100\n",
            "20/20 [==============================] - 0s 15ms/step - loss: 0.5493 - accuracy: 0.7199 - val_loss: 0.4845 - val_accuracy: 0.7662\n",
            "Epoch 4/100\n",
            "20/20 [==============================] - 0s 15ms/step - loss: 0.5366 - accuracy: 0.7199 - val_loss: 0.4611 - val_accuracy: 0.7857\n",
            "Epoch 5/100\n",
            "20/20 [==============================] - 0s 15ms/step - loss: 0.4893 - accuracy: 0.7720 - val_loss: 0.4686 - val_accuracy: 0.7792\n",
            "Epoch 6/100\n",
            "20/20 [==============================] - 0s 14ms/step - loss: 0.4962 - accuracy: 0.7704 - val_loss: 0.4682 - val_accuracy: 0.7857\n",
            "Epoch 7/100\n",
            "20/20 [==============================] - 0s 17ms/step - loss: 0.4791 - accuracy: 0.7590 - val_loss: 0.4827 - val_accuracy: 0.7792\n",
            "Epoch 8/100\n",
            "20/20 [==============================] - 0s 15ms/step - loss: 0.4661 - accuracy: 0.7801 - val_loss: 0.5774 - val_accuracy: 0.7532\n",
            "Epoch 9/100\n",
            "20/20 [==============================] - 0s 14ms/step - loss: 0.4667 - accuracy: 0.7655 - val_loss: 0.4780 - val_accuracy: 0.7857\n",
            "Epoch 10/100\n",
            "20/20 [==============================] - 0s 17ms/step - loss: 0.4425 - accuracy: 0.8013 - val_loss: 0.5495 - val_accuracy: 0.7532\n",
            "Epoch 11/100\n",
            "20/20 [==============================] - 0s 15ms/step - loss: 0.4445 - accuracy: 0.7834 - val_loss: 0.5224 - val_accuracy: 0.7857\n",
            "Epoch 12/100\n",
            "20/20 [==============================] - 0s 15ms/step - loss: 0.4588 - accuracy: 0.7671 - val_loss: 0.5225 - val_accuracy: 0.7857\n",
            "Epoch 13/100\n",
            "20/20 [==============================] - 0s 15ms/step - loss: 0.4661 - accuracy: 0.7752 - val_loss: 0.5276 - val_accuracy: 0.7857\n",
            "Epoch 14/100\n",
            "20/20 [==============================] - 0s 16ms/step - loss: 0.4451 - accuracy: 0.7915 - val_loss: 0.5195 - val_accuracy: 0.7727\n"
          ]
        },
        {
          "output_type": "execute_result",
          "data": {
            "text/plain": [
              "<keras.callbacks.History at 0x7f5b911178d0>"
            ]
          },
          "metadata": {},
          "execution_count": 125
        }
      ]
    },
    {
      "cell_type": "code",
      "source": [],
      "metadata": {
        "id": "EEaGI-Pw40Tf"
      },
      "execution_count": 128,
      "outputs": []
    },
    {
      "cell_type": "code",
      "source": [],
      "metadata": {
        "colab": {
          "base_uri": "https://localhost:8080/",
          "height": 164
        },
        "id": "NXxSroyp_Mji",
        "outputId": "394e76d7-b60c-4bd6-9768-d2f8a3d20df1"
      },
      "execution_count": 121,
      "outputs": [
        {
          "output_type": "error",
          "ename": "AttributeError",
          "evalue": "ignored",
          "traceback": [
            "\u001b[0;31m---------------------------------------------------------------------------\u001b[0m",
            "\u001b[0;31mAttributeError\u001b[0m                            Traceback (most recent call last)",
            "\u001b[0;32m<ipython-input-121-073db7f65773>\u001b[0m in \u001b[0;36m<module>\u001b[0;34m\u001b[0m\n\u001b[0;32m----> 1\u001b[0;31m \u001b[0mmodel\u001b[0m\u001b[0;34m.\u001b[0m\u001b[0mbest_params_\u001b[0m\u001b[0;34m\u001b[0m\u001b[0;34m\u001b[0m\u001b[0m\n\u001b[0m",
            "\u001b[0;31mAttributeError\u001b[0m: 'KerasClassifier' object has no attribute 'best_params_'"
          ]
        }
      ]
    },
    {
      "cell_type": "code",
      "source": [],
      "metadata": {
        "id": "BpxLbiLQADa_"
      },
      "execution_count": null,
      "outputs": []
    }
  ]
}